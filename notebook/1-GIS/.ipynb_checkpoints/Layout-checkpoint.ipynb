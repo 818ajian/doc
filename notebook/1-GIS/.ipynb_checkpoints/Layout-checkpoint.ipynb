{
 "cells": [
  {
   "cell_type": "code",
   "execution_count": 1,
   "metadata": {
    "collapsed": false
   },
   "outputs": [
    {
     "name": "stdout",
     "output_type": "stream",
     "text": [
      "jeudi 23 juin 2016, 21:45:33 (UTC+0200)\r\n"
     ]
    }
   ],
   "source": [
    ">>> !date "
   ]
  },
  {
   "cell_type": "markdown",
   "metadata": {},
   "source": [
    "# Description of the propagation environment\n",
    "\n",
    "The `Layout` class contains the data structure for describing a propagation environment. It contains different graphs helping the implementation of the ray tracing. The class is implemented in the \n",
    "\n",
    "[layout.py](http://pylayers.github.io/pylayers/modules/pylayers.gis.layout.html)"
   ]
  },
  {
   "cell_type": "code",
   "execution_count": 2,
   "metadata": {
    "collapsed": false
   },
   "outputs": [
    {
     "name": "stdout",
     "output_type": "stream",
     "text": [
      "Warning : OSM Parser seems to be not installed\n"
     ]
    }
   ],
   "source": [
    ">>> from pylayers.gis.layout import *\n",
    ">>> from IPython.display import Image\n",
    ">>> import os\n",
    ">>> %matplotlib inline"
   ]
  },
  {
   "cell_type": "markdown",
   "metadata": {},
   "source": [
    "## Getting the list of all available Layouts : the `ls()` method\n",
    "\n",
    "Creating a default Layout is as simple as :"
   ]
  },
  {
   "cell_type": "code",
   "execution_count": 3,
   "metadata": {
    "collapsed": false
   },
   "outputs": [
    {
     "data": {
      "text/plain": [
       "\n",
       "----------------\n",
       "defstr.ini\n",
       "----------------\n",
       "\n",
       "Number of points  : 12\n",
       "Number of segments  : 13\n",
       "Number of sub segments  : 3\n",
       "Number of cycles  : 7\n",
       "Number of rooms  : 2\n",
       "degree 0 : []\n",
       "degree 1 : [-8 -7]\n",
       "number of node point of degree 2 : 4\n",
       "number of node point of degree 3 : 2\n",
       "\n",
       "xrange :(748.5, 778.5)\n",
       "yrange :(1101.6, 1125.9)\n",
       "\n",
       "Useful dictionnaries\n",
       "----------------\n",
       "dca {cycle : []} cycle with an airwall\n",
       "sl {slab name : slab dictionary}\n",
       "name :  {slab :seglist} \n",
       "\n",
       "Useful arrays\n",
       "----------------\n",
       "pt : numpy array of points \n",
       "normal : numpy array of normal \n",
       "offset : numpy array of offset \n",
       "tsg : get segment index in Gs from tahe\n",
       "isss :  sub-segment index above Nsmax\n",
       "tgs : get segment index in tahe from self.Gs\n",
       "upnt : get point id index from self.pt\n",
       "iupnt : get point index in self.pt from point id  \n",
       "lsss : list of segments with sub-segment\n",
       "sla : list of all slab names (Nsmax+Nss+1)\n",
       "degree : degree of nodes \n",
       "\n",
       "Useful tip\n",
       "----------------\n",
       "Point p in Gs => p_coord:\n",
       "p -> u = self.iupnt[-p] -> p_coord = self.pt[:,u]\n",
       "\n",
       "Segment s in Gs => s_ab coordinates \n",
       "s -> u = self.tgs[s] -> v = self.tahe[:,u] -> s_ab = self.pt[:,v]\n"
      ]
     },
     "execution_count": 3,
     "metadata": {},
     "output_type": "execute_result"
    }
   ],
   "source": [
    ">>> L=Layout()\n",
    ">>> L"
   ]
  },
  {
   "cell_type": "markdown",
   "metadata": {},
   "source": [
    "Querying the file name associated with the Layout"
   ]
  },
  {
   "cell_type": "code",
   "execution_count": 4,
   "metadata": {
    "collapsed": false
   },
   "outputs": [
    {
     "data": {
      "text/plain": [
       "'defstr.ini'"
      ]
     },
     "execution_count": 4,
     "metadata": {},
     "output_type": "execute_result"
    }
   ],
   "source": [
    ">>> L.filename"
   ]
  },
  {
   "cell_type": "markdown",
   "metadata": {},
   "source": [
    "The Layout is described in an `.ini` file. \n",
    "\n",
    " The `ls()` method lists the layout files which are available in the `struc` directory of your current project, which is set up via the $BASENAME environment variable which should be defined in order PyLayers find the good directories."
   ]
  },
  {
   "cell_type": "code",
   "execution_count": 5,
   "metadata": {
    "collapsed": false
   },
   "outputs": [
    {
     "data": {
      "text/plain": [
       "['11Dbibli.ini',\n",
       " 'B11.ini',\n",
       " 'CORM1.ini',\n",
       " 'DLR.ini',\n",
       " 'DLR2.ini',\n",
       " 'Luebbers.ini',\n",
       " 'MOCAP-small.ini',\n",
       " 'MOCAP-small2.ini',\n",
       " 'MOCAP.ini',\n",
       " 'MOCAPext.ini',\n",
       " 'Scene.ini',\n",
       " 'TA-Office.ini',\n",
       " 'TA-Office3.ini',\n",
       " 'TC1_METIS.ini',\n",
       " 'TC1_METIS_old.ini',\n",
       " 'TC2_METIS.ini',\n",
       " 'TC2_METIS_new.ini',\n",
       " 'W2PTIN.ini',\n",
       " 'WHERE1-new.ini',\n",
       " 'WHERE1.ini',\n",
       " 'WHERE1_v1.0.ini',\n",
       " 'defdiff.ini',\n",
       " 'defsthdiff.ini',\n",
       " 'defstr.ini',\n",
       " 'edge.ini',\n",
       " 'klepal.ini',\n",
       " 'scattering.ini',\n",
       " 'test.ini']"
      ]
     },
     "execution_count": 5,
     "metadata": {},
     "output_type": "execute_result"
    }
   ],
   "source": [
    ">>> L.ls('ini')"
   ]
  },
  {
   "cell_type": "code",
   "execution_count": 6,
   "metadata": {
    "collapsed": true
   },
   "outputs": [],
   "source": [
    ">>> L=Layout('defstr.ini')"
   ]
  },
  {
   "cell_type": "code",
   "execution_count": 7,
   "metadata": {
    "collapsed": false
   },
   "outputs": [
    {
     "data": {
      "text/plain": [
       "\n",
       "----------------\n",
       "defstr.ini\n",
       "----------------\n",
       "\n",
       "Number of points  : 12\n",
       "Number of segments  : 13\n",
       "Number of sub segments  : 3\n",
       "Number of cycles  : 7\n",
       "Number of rooms  : 2\n",
       "degree 0 : []\n",
       "degree 1 : [-8 -7]\n",
       "number of node point of degree 2 : 4\n",
       "number of node point of degree 3 : 2\n",
       "\n",
       "xrange :(748.5, 778.5)\n",
       "yrange :(1101.6, 1125.9)\n",
       "\n",
       "Useful dictionnaries\n",
       "----------------\n",
       "dca {cycle : []} cycle with an airwall\n",
       "sl {slab name : slab dictionary}\n",
       "name :  {slab :seglist} \n",
       "\n",
       "Useful arrays\n",
       "----------------\n",
       "pt : numpy array of points \n",
       "normal : numpy array of normal \n",
       "offset : numpy array of offset \n",
       "tsg : get segment index in Gs from tahe\n",
       "isss :  sub-segment index above Nsmax\n",
       "tgs : get segment index in tahe from self.Gs\n",
       "upnt : get point id index from self.pt\n",
       "iupnt : get point index in self.pt from point id  \n",
       "lsss : list of segments with sub-segment\n",
       "sla : list of all slab names (Nsmax+Nss+1)\n",
       "degree : degree of nodes \n",
       "\n",
       "Useful tip\n",
       "----------------\n",
       "Point p in Gs => p_coord:\n",
       "p -> u = self.iupnt[-p] -> p_coord = self.pt[:,u]\n",
       "\n",
       "Segment s in Gs => s_ab coordinates \n",
       "s -> u = self.tgs[s] -> v = self.tahe[:,u] -> s_ab = self.pt[:,v]\n"
      ]
     },
     "execution_count": 7,
     "metadata": {},
     "output_type": "execute_result"
    }
   ],
   "source": [
    ">>> L"
   ]
  },
  {
   "cell_type": "code",
   "execution_count": 8,
   "metadata": {
    "collapsed": false
   },
   "outputs": [
    {
     "data": {
      "image/png": "[encoded data removed]",
      "text/plain": [
       "<matplotlib.figure.Figure at 0x7fb996f7fd90>"
      ]
     },
     "metadata": {},
     "output_type": "display_data"
    }
   ],
   "source": [
    ">>> f,a=L.showG('s',nodes=True,slab=True,subseg=True,figsize=(10,10),labels=True)"
   ]
  },
  {
   "cell_type": "markdown",
   "metadata": {},
   "source": [
    "L.ax  provides the boundary of the layout with the following format :  (xmin,xmax,ymin,ymax)"
   ]
  },
  {
   "cell_type": "code",
   "execution_count": 9,
   "metadata": {
    "collapsed": false
   },
   "outputs": [
    {
     "data": {
      "text/plain": [
       "(748.5, 778.5, 1101.6, 1125.9)"
      ]
     },
     "execution_count": 9,
     "metadata": {},
     "output_type": "execute_result"
    }
   ],
   "source": [
    ">>> L.ax"
   ]
  },
  {
   "cell_type": "markdown",
   "metadata": {},
   "source": [
    "This Layout has several convex cycles which are stored in the Gt graph. \n",
    "The diffraction points are stored in a dictionnary L.ddiff. The keys of this diction-nary are the diffraction points and the values are both the list of output cycles and the corresponding wedge angles."
   ]
  },
  {
   "cell_type": "code",
   "execution_count": 14,
   "metadata": {
    "collapsed": false
   },
   "outputs": [
    {
     "data": {
      "text/plain": [
       "{(-8,): {},\n",
       " (-7,): {},\n",
       " (-6,): {},\n",
       " (-4,): {},\n",
       " (-3,): {},\n",
       " (-1,): {},\n",
       " (1, 1): {},\n",
       " (1, 1, 2): {},\n",
       " (1, 2): {},\n",
       " (1, 2, 1): {},\n",
       " (2, 1): {},\n",
       " (2, 1, 2): {},\n",
       " (2, 2): {},\n",
       " (2, 2, 1): {},\n",
       " (3, 1): {},\n",
       " (3, 1, 2): {},\n",
       " (3, 2): {},\n",
       " (3, 2, 1): {},\n",
       " (4, 2): {},\n",
       " (4, 2, 6): {},\n",
       " (4, 6): {},\n",
       " (4, 6, 2): {},\n",
       " (5, 2): {},\n",
       " (5, 2, 5): {},\n",
       " (5, 5): {},\n",
       " (5, 5, 2): {},\n",
       " (6, 1): {},\n",
       " (6, 1, 5): {},\n",
       " (6, 5): {},\n",
       " (6, 5, 1): {},\n",
       " (7, 1): {},\n",
       " (7, 1, 4): {},\n",
       " (7, 4): {},\n",
       " (7, 4, 1): {},\n",
       " (8, 1): {},\n",
       " (8, 1, 3): {},\n",
       " (8, 3): {},\n",
       " (8, 3, 1): {},\n",
       " (9, 2): {},\n",
       " (9, 2, 3): {},\n",
       " (9, 3): {},\n",
       " (9, 3, 2): {},\n",
       " (16, 3, 6): {},\n",
       " (16, 6, 3): {},\n",
       " (18, 3, 4): {},\n",
       " (18, 4, 3): {},\n",
       " (21, 5, 6): {},\n",
       " (21, 6, 5): {},\n",
       " (22, 4, 5): {},\n",
       " (22, 5, 4): {}}"
      ]
     },
     "execution_count": 14,
     "metadata": {},
     "output_type": "execute_result"
    }
   ],
   "source": [
    ">>> L.Gi.node"
   ]
  },
  {
   "cell_type": "code",
   "execution_count": 15,
   "metadata": {
    "collapsed": false
   },
   "outputs": [
    {
     "data": {
      "text/plain": [
       "{-8: ([1, 2], 6.283185307179586),\n",
       " -7: ([1, 2], 6.283185307179586),\n",
       " -6: ([5, 6], 4.7123889803846897),\n",
       " -4: ([4, 5], 4.7123889803846897),\n",
       " -3: ([3, 4], 4.7123889803846897),\n",
       " -1: ([3, 6], 4.7723171355059337)}"
      ]
     },
     "execution_count": 15,
     "metadata": {},
     "output_type": "execute_result"
    }
   ],
   "source": [
    ">>> L.ddiff"
   ]
  },
  {
   "cell_type": "code",
   "execution_count": 16,
   "metadata": {
    "collapsed": false
   },
   "outputs": [
    {
     "data": {
      "text/plain": [
       "{0: {'hash': '6d3bb9b6d851f0e48e46cb61573648da', 'indoor': False},\n",
       " 1: {'cycle': cycle nstr[-8  2 -2  8 -3  7 -4  6 -5  3 -7  1]\n",
       "  point number 6\n",
       "  segment number 6\n",
       "  area : 20.0\n",
       "  centroid : [  766.   1113.9],\n",
       "  'indoor': True,\n",
       "  'inter': [(1, 1),\n",
       "   (1, 1, 2),\n",
       "   (1, 2, 1),\n",
       "   (3, 1),\n",
       "   (3, 1, 2),\n",
       "   (3, 2, 1),\n",
       "   (6, 1),\n",
       "   (6, 1, 5),\n",
       "   (6, 5, 1),\n",
       "   (7, 1),\n",
       "   (7, 1, 4),\n",
       "   (7, 4, 1),\n",
       "   (8, 1),\n",
       "   (8, 1, 3),\n",
       "   (8, 3, 1),\n",
       "   (2, 1),\n",
       "   (2, 1, 2),\n",
       "   (2, 2, 1),\n",
       "   (-6,),\n",
       "   (-1,)],\n",
       "  'isopen': True,\n",
       "  'polyg': (763.5,1113.432)\n",
       "  (763.5,1114.432)\n",
       "  (763.5,1115.9)\n",
       "  (768.5,1115.9)\n",
       "  (768.5,1111.9)\n",
       "  (763.5,1111.9)\n",
       "  \n",
       "  vnodes : (-8 2 -2 8 -3 7 -4 6 -5 3 -7 1 )},\n",
       " 2: {'cycle': cycle nstr[-8  2 -2  9 -1  4 -6  5 -5  3 -7  1]\n",
       "  point number 6\n",
       "  segment number 6\n",
       "  area : -20.75\n",
       "  centroid : [  760.96987952  1113.82409639],\n",
       "  'indoor': True,\n",
       "  'inter': [(1, 2),\n",
       "   (1, 2, 1),\n",
       "   (1, 1, 2),\n",
       "   (2, 2),\n",
       "   (2, 2, 1),\n",
       "   (2, 1, 2),\n",
       "   (9, 2),\n",
       "   (9, 2, 3),\n",
       "   (9, 3, 2),\n",
       "   (4, 2),\n",
       "   (4, 2, 6),\n",
       "   (4, 6, 2),\n",
       "   (5, 2),\n",
       "   (5, 2, 5),\n",
       "   (5, 5, 2),\n",
       "   (3, 2),\n",
       "   (3, 2, 1),\n",
       "   (3, 1, 2),\n",
       "   (-6,),\n",
       "   (-1,)],\n",
       "  'isopen': True,\n",
       "  'polyg': (763.5,1114.432)\n",
       "  (763.5,1113.432)\n",
       "  (763.5,1111.9)\n",
       "  (758.5,1111.6)\n",
       "  (758.5,1115.9)\n",
       "  (763.5,1115.9)\n",
       "  \n",
       "  vnodes : (-8 2 -2 9 -1 4 -6 5 -5 3 -7 1 )},\n",
       " 3: {'cycle': cycle nstr[ -3  18 -10  10  -9  16  -1   9  -2   8]\n",
       "  point number 5\n",
       "  segment number 5\n",
       "  area : -203.75\n",
       "  centroid : [  763.57361963  1105.85169734],\n",
       "  'indoor': False,\n",
       "  'inter': [(10, 3, 0),\n",
       "   (10, 0, 3),\n",
       "   (16, 3, 6),\n",
       "   (16, 6, 3),\n",
       "   (9, 3),\n",
       "   (9, 3, 2),\n",
       "   (9, 2, 3),\n",
       "   (8, 3),\n",
       "   (8, 3, 1),\n",
       "   (8, 1, 3),\n",
       "   (18, 3, 4),\n",
       "   (18, 4, 3),\n",
       "   (-6,),\n",
       "   (-1,)],\n",
       "  'isopen': True,\n",
       "  'polyg': (778.5,1101.6)\n",
       "  (748.5,1101.6)\n",
       "  (758.5,1111.6)\n",
       "  (763.5,1111.9)\n",
       "  (768.5,1111.9)\n",
       "  \n",
       "  vnodes : (-3 18 -10 10 -9 16 -1 9 -2 8 )},\n",
       " 4: {'cycle': cycle nstr[ -4   7  -3  18 -10  11 -11  22]\n",
       "  point number 4\n",
       "  segment number 4\n",
       "  area : 141.5\n",
       "  centroid : [  774.69552415  1113.80706714],\n",
       "  'indoor': False,\n",
       "  'inter': [(11, 4, 0),\n",
       "   (11, 0, 4),\n",
       "   (18, 4, 3),\n",
       "   (18, 3, 4),\n",
       "   (7, 4),\n",
       "   (7, 4, 1),\n",
       "   (7, 1, 4),\n",
       "   (22, 4, 5),\n",
       "   (22, 5, 4),\n",
       "   (-6,),\n",
       "   (-1,)],\n",
       "  'isopen': True,\n",
       "  'polyg': (778.5,1125.9)\n",
       "  (778.5,1101.6)\n",
       "  (768.5,1111.9)\n",
       "  (768.5,1115.9)\n",
       "  \n",
       "  vnodes : (-4 7 -3 18 -10 11 -11 22 )},\n",
       " 5: {'cycle': cycle nstr[ -6  21 -12  12 -11  22  -4   6  -5   5]\n",
       "  point number 5\n",
       "  segment number 5\n",
       "  area : -200.0\n",
       "  centroid : [  763.5         1121.73333333],\n",
       "  'indoor': False,\n",
       "  'inter': [(12, 5, 0),\n",
       "   (12, 0, 5),\n",
       "   (22, 5, 4),\n",
       "   (22, 4, 5),\n",
       "   (6, 5),\n",
       "   (6, 5, 1),\n",
       "   (6, 1, 5),\n",
       "   (5, 5),\n",
       "   (5, 5, 2),\n",
       "   (5, 2, 5),\n",
       "   (21, 5, 6),\n",
       "   (21, 6, 5),\n",
       "   (-6,),\n",
       "   (-1,)],\n",
       "  'isopen': True,\n",
       "  'polyg': (748.5,1125.9)\n",
       "  (778.5,1125.9)\n",
       "  (768.5,1115.9)\n",
       "  (763.5,1115.9)\n",
       "  (758.5,1115.9)\n",
       "  \n",
       "  vnodes : (-6 21 -12 12 -11 22 -4 6 -5 5 )},\n",
       " 6: {'cycle': cycle nstr[ -6  21 -12  13  -9  16  -1   4]\n",
       "  point number 4\n",
       "  segment number 4\n",
       "  area : 143.0\n",
       "  centroid : [  752.33449883  1113.75      ],\n",
       "  'indoor': False,\n",
       "  'inter': [(13, 6, 0),\n",
       "   (13, 0, 6),\n",
       "   (21, 6, 5),\n",
       "   (21, 5, 6),\n",
       "   (4, 6),\n",
       "   (4, 6, 2),\n",
       "   (4, 2, 6),\n",
       "   (16, 6, 3),\n",
       "   (16, 3, 6),\n",
       "   (-6,),\n",
       "   (-1,)],\n",
       "  'isopen': True,\n",
       "  'polyg': (748.5,1101.6)\n",
       "  (748.5,1125.9)\n",
       "  (758.5,1115.9)\n",
       "  (758.5,1111.6)\n",
       "  \n",
       "  vnodes : (-6 21 -12 13 -9 16 -1 4 )}}"
      ]
     },
     "execution_count": 16,
     "metadata": {},
     "output_type": "execute_result"
    }
   ],
   "source": [
    ">>> L.Gt.node"
   ]
  },
  {
   "cell_type": "code",
   "execution_count": 17,
   "metadata": {
    "collapsed": false
   },
   "outputs": [],
   "source": [
    ">>> L=Layout('DLR.ini')"
   ]
  },
  {
   "cell_type": "code",
   "execution_count": 18,
   "metadata": {
    "collapsed": false
   },
   "outputs": [
    {
     "data": {
      "image/png": "[encoded data removed]",
      "text/plain": [
       "<matplotlib.figure.Figure at 0x7fb99620bfd0>"
      ]
     },
     "metadata": {},
     "output_type": "display_data"
    }
   ],
   "source": [
    ">>> f,a=L.showG('s',aw=False)"
   ]
  },
  {
   "cell_type": "markdown",
   "metadata": {},
   "source": [
    "To check which are the used slabs :"
   ]
  },
  {
   "cell_type": "code",
   "execution_count": 19,
   "metadata": {
    "collapsed": false
   },
   "outputs": [
    {
     "name": "stdout",
     "output_type": "stream",
     "text": [
      "3D_WINDOW_GLASS : GLASS | AIR | GLASS | [0.05, 0.05, 0.05]\n",
      "       blue3 1\n",
      "\n",
      "AIR : AIR | [0.05]\n",
      "       white 1\n",
      "\n",
      "DOOR : WOOD | [0.05]\n",
      "       red1 1\n",
      "\n",
      "METAL : METAL | [0.05]\n",
      "       black 4\n",
      "\n",
      "PARTITION : PLASTER | [0.05]\n",
      "       grey80 4\n",
      "\n",
      "WALL : BRICK | [0.05]\n",
      "       grey20 3\n",
      "\n"
     ]
    }
   ],
   "source": [
    ">>> Slabs = np.unique(L.sla)\n",
    ">>> for s in Slabs:\n",
    ">>>     if s in L.sl:\n",
    "           print L.sl[s]"
   ]
  },
  {
   "cell_type": "markdown",
   "metadata": {},
   "source": [
    "Let's load an other layout. This an indoor office where the FP7 WHERE project UWB impulse radio measuremnts have been performed."
   ]
  },
  {
   "cell_type": "code",
   "execution_count": 20,
   "metadata": {
    "collapsed": true
   },
   "outputs": [],
   "source": [
    ">>> L=Layout('WHERE1.ini')"
   ]
  },
  {
   "cell_type": "markdown",
   "metadata": {},
   "source": [
    "The showG method provides many possible visualization of the layout"
   ]
  },
  {
   "cell_type": "code",
   "execution_count": 21,
   "metadata": {
    "collapsed": false
   },
   "outputs": [
    {
     "data": {
      "image/png": "[encoded data removed]",
      "text/plain": [
       "<matplotlib.figure.Figure at 0x7fb99620b510>"
      ]
     },
     "metadata": {},
     "output_type": "display_data"
    }
   ],
   "source": [
    ">>> f,a=L.showG('s',airwalls=False,figsize=(20,10))"
   ]
  },
  {
   "cell_type": "code",
   "execution_count": 22,
   "metadata": {
    "collapsed": true
   },
   "outputs": [],
   "source": [
    ">>> L=Layout('W2PTIN.ini')"
   ]
  },
  {
   "cell_type": "code",
   "execution_count": 25,
   "metadata": {
    "collapsed": false
   },
   "outputs": [
    {
     "data": {
      "image/png": "[encoded data removed]",
      "text/plain": [
       "<matplotlib.figure.Figure at 0x7fb99475fa10>"
      ]
     },
     "metadata": {},
     "output_type": "display_data"
    }
   ],
   "source": [
    ">>> f,a = L.showG('s',aw=0)"
   ]
  },
  {
   "cell_type": "markdown",
   "metadata": {},
   "source": [
    "## The useful numpy arrays of the Layout\n",
    "\n",
    "The layout data structure is a mix between graph and numpy array. \n",
    "numpy arrays are used when high performance is required while graph \n",
    "structure is convenient when dealing with different specific tasks. \n",
    "The tricky thing for the mind is to have to transcode between node index \n",
    "excluding 0 and numpy array index including 0. Below are listed various \n",
    "useful numpy array which are mostly used internally.\n",
    "\n",
    "+ tsg : get segment index in Gs from tahe\n",
    "+ isss :  sub-segment index above Nsmax\n",
    "+ tgs : get segment index in tahe from Gs\n",
    "+ lsss : list of segments with sub-segment\n",
    "+ sla : list of all slab names (Nsmax+Nss+1)\n",
    "+ degree : degree of nodes\n",
    "\n",
    "### `pt` the array of points\n",
    "\n",
    "The point coordinates are stored in two different places\n",
    "\n",
    "  + L.Gs.pos : in a dictionary form (key is the point negative index)\n",
    "  + L.pt : in a numpy array"
   ]
  },
  {
   "cell_type": "code",
   "execution_count": 24,
   "metadata": {
    "collapsed": false
   },
   "outputs": [
    {
     "name": "stdout",
     "output_type": "stream",
     "text": [
      "(2, 181)\n",
      "185\n"
     ]
    }
   ],
   "source": [
    ">>> print np.shape(L.pt)\n",
    ">>> print len(filter(lambda x: x<0,L.Gs.pos))"
   ]
  },
  {
   "cell_type": "markdown",
   "metadata": {},
   "source": [
    "This dual storage is chosen for computational efficiency reason. The priority goes to the graph and the numpy array is calculated at the end of the edition in the `Layout.g2npy` method (graph to numpy) which is in charge of the conversion.\n",
    "\n",
    "### tahe (tail-head)\n",
    "\n",
    "`tahe` is a $(2\\times N_{s})$  where $N_s$ denotes the number of segment. The first line  is the tail index of the segment $k$ and the second line is the head of the segment $k$. Where $k$ is the index of a given segment (starting in 0)."
   ]
  },
  {
   "cell_type": "markdown",
   "metadata": {},
   "source": [
    "The figure below illustrates a Layout and a superimposition of the graph of cycles $\\mathcal{G}_c$. Those cycles are automatically extracted from a well defined layout. This concept of **cycles** is central in the ray determination algorithm which is implemented in PyLayers. Notice that the exterior region is the cycle indexed by 0. All the rooms which have a common frontier with the exterior cycle are here connected to the origin (corresponding to exterior cycle)."
   ]
  },
  {
   "cell_type": "code",
   "execution_count": 29,
   "metadata": {
    "collapsed": false
   },
   "outputs": [
    {
     "data": {
      "image/png": "[encoded data removed]",
      "text/plain": [
       "<matplotlib.figure.Figure at 0x7fb995de2a10>"
      ]
     },
     "metadata": {},
     "output_type": "display_data"
    }
   ],
   "source": [
    ">>> f,a = L.showG('s')"
   ]
  },
  {
   "cell_type": "code",
   "execution_count": 27,
   "metadata": {
    "collapsed": false
   },
   "outputs": [
    {
     "data": {
      "text/plain": [
       "<matplotlib.collections.LineCollection at 0x7fb995cbd310>"
      ]
     },
     "execution_count": 27,
     "metadata": {},
     "output_type": "execute_result"
    },
    {
     "data": {
      "image/png": "[encoded data removed]",
      "text/plain": [
       "<matplotlib.figure.Figure at 0x7fb996a7ba90>"
      ]
     },
     "metadata": {},
     "output_type": "display_data"
    }
   ],
   "source": [
    ">>> nx.draw_networkx_nodes(L.Gi,L.Gi.pos,node_color='blue',node_size=1)\n",
    ">>> nx.draw_networkx_edges(L.Gi,L.Gi.pos,node_color='blue',node_size=1)"
   ]
  },
  {
   "cell_type": "markdown",
   "metadata": {},
   "source": [
    "## `tgs` : trancodage from graph indexing to numpy array indexing\n",
    "\n",
    "`tgs` is an array with length $N_s$+1. The index 0 is not used because none segment has 0 as an index."
   ]
  },
  {
   "cell_type": "code",
   "execution_count": 30,
   "metadata": {
    "collapsed": true
   },
   "outputs": [],
   "source": [
    ">>> ns = 5\n",
    ">>> utahe = L.tgs[ns]"
   ]
  },
  {
   "cell_type": "code",
   "execution_count": 31,
   "metadata": {
    "collapsed": true
   },
   "outputs": [],
   "source": [
    ">>> tahe =  L.tahe[:,utahe]"
   ]
  },
  {
   "cell_type": "code",
   "execution_count": 32,
   "metadata": {
    "collapsed": true
   },
   "outputs": [],
   "source": [
    ">>> ptail = L.pt[:,tahe[0]]\n",
    ">>> phead = L.pt[:,tahe[1]]"
   ]
  },
  {
   "cell_type": "code",
   "execution_count": 33,
   "metadata": {
    "collapsed": false
   },
   "outputs": [
    {
     "name": "stdout",
     "output_type": "stream",
     "text": [
      "[ 29.785   6.822]\n"
     ]
    }
   ],
   "source": [
    ">>> print ptail"
   ]
  },
  {
   "cell_type": "code",
   "execution_count": 34,
   "metadata": {
    "collapsed": false
   },
   "outputs": [
    {
     "name": "stdout",
     "output_type": "stream",
     "text": [
      "[ 27.414   6.822]\n"
     ]
    }
   ],
   "source": [
    ">>> print phead"
   ]
  },
  {
   "cell_type": "code",
   "execution_count": 35,
   "metadata": {
    "collapsed": false
   },
   "outputs": [
    {
     "data": {
      "text/plain": [
       "{'connect': [-8, -139],\n",
       " 'name': 'PARTITION',\n",
       " 'ncycles': [],\n",
       " 'norm': array([ 0., -1.,  0.]),\n",
       " 'offset': 0,\n",
       " 'transition': False,\n",
       " 'z': (0, 3.0)}"
      ]
     },
     "execution_count": 35,
     "metadata": {},
     "output_type": "execute_result"
    }
   ],
   "source": [
    ">>> L.Gs.node[5]"
   ]
  },
  {
   "cell_type": "code",
   "execution_count": 36,
   "metadata": {
    "collapsed": false
   },
   "outputs": [
    {
     "name": "stdout",
     "output_type": "stream",
     "text": [
      "(29.785, 6.822)\n",
      "(27.414, 6.822)\n"
     ]
    }
   ],
   "source": [
    ">>> print L.Gs.pos[-8]\n",
    ">>> print L.Gs.pos[-139]"
   ]
  },
  {
   "cell_type": "code",
   "execution_count": 37,
   "metadata": {
    "collapsed": true
   },
   "outputs": [],
   "source": [
    ">>> aseg = np.array([4,7,134])"
   ]
  },
  {
   "cell_type": "code",
   "execution_count": 38,
   "metadata": {
    "collapsed": false
   },
   "outputs": [
    {
     "name": "stdout",
     "output_type": "stream",
     "text": [
      "(3,)\n"
     ]
    }
   ],
   "source": [
    ">>> print np.shape(aseg)"
   ]
  },
  {
   "cell_type": "code",
   "execution_count": 39,
   "metadata": {
    "collapsed": true
   },
   "outputs": [],
   "source": [
    ">>> pt  = L.tahe[:,L.tgs[aseg]][0,:]\n",
    ">>> ph = L.tahe[:,L.tgs[aseg]][1,:]\n",
    ">>> pth = np.vstack((pt,ph))"
   ]
  },
  {
   "cell_type": "code",
   "execution_count": 40,
   "metadata": {
    "collapsed": false
   },
   "outputs": [
    {
     "data": {
      "text/plain": [
       "(2, 3)"
      ]
     },
     "execution_count": 40,
     "metadata": {},
     "output_type": "execute_result"
    }
   ],
   "source": [
    ">>> np.shape(pth)"
   ]
  }
 ],
 "metadata": {
  "kernelspec": {
   "display_name": "Python 2",
   "language": "python",
   "name": "python2"
  },
  "language_info": {
   "codemirror_mode": {
    "name": "ipython",
    "version": 2
   },
   "file_extension": ".py",
   "mimetype": "text/x-python",
   "name": "python",
   "nbconvert_exporter": "python",
   "pygments_lexer": "ipython2",
   "version": "2.7.10"
  }
 },
 "nbformat": 4,
 "nbformat_minor": 0
}
