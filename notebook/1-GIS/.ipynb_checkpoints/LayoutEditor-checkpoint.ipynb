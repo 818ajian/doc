{
 "cells": [
  {
   "cell_type": "markdown",
   "metadata": {},
   "source": [
    "## The Layout class"
   ]
  },
  {
   "cell_type": "markdown",
   "metadata": {},
   "source": [
    "### Introduction"
   ]
  },
  {
   "cell_type": "markdown",
   "metadata": {},
   "source": [
    "This section explains the main features of the  **Layout** class. \n",
    "\n",
    "A Layout is a representation of a floorplan, it is handled by the module **pylayers.gis.layout**. \n",
    "\n",
    "This module recognizes different file formats including geo-referenced files in open street map format `.osm`. \n",
    "\n",
    "Using osm allows to take advantage \n",
    "of a mature floor plan editor *JOSM* with the plugin *PicLayer*. This is well described in http://wiki.openstreetmap.org/wiki/IndoorOSM\n",
    "\n",
    "The `pylayers.gis.osmparser` module parses `osm` files. \n",
    "\n",
    "See the following methods of the layout object \n",
    "\n",
    "+ `loadosm()` \n",
    "+ `saveosm()`\n",
    "\n",
    "\n"
   ]
  },
  {
   "cell_type": "markdown",
   "metadata": {},
   "source": [
    "### Structure of a Layout"
   ]
  },
  {
   "cell_type": "markdown",
   "metadata": {},
   "source": [
    "At first a Layout is described by a set of points (negative index) and a set of segments (positive index). \n",
    "\n",
    "Points and segments are nodes of the $\\mathcal{G}_s$ graph. \n",
    "\n",
    "It is required to respect a strict non overlapping rule. **No segments can recover partially or totally an other segment**.\n",
    "\n",
    "This rule allows to capture topological relations of the network which are exploited for further analysis. \n",
    "\n"
   ]
  },
  {
   "cell_type": "markdown",
   "metadata": {},
   "source": [
    "### Subsegments"
   ]
  },
  {
   "cell_type": "markdown",
   "metadata": {},
   "source": [
    "To describe doors and windows, the concept of `subsegment` is introduced. \n",
    "\n",
    "A `segment` has attributes :  \n",
    "\n",
    "+ `name` : slab name\n",
    "+ `z` : tuple of minimum and maximum heights with respect to ground (meters)\n",
    "+ `transition` : a boolean indicating if a human can cross this segment. For example, segments associated with a door are transition segments but we will see later that it may be judicious to split space with transparent segments which have the name 'AIR'. Those segments are also `transition=True`\n",
    "\n",
    "A `subsegment` belongs to a `segment`, it has mainly 2 attached parameters : \n",
    "\n",
    "+ `ss_name` : subsegment slab name\n",
    "+ `ss_z` : [(zmin1,zmax1),(zmin2,zmax2),...,(zminK,zmaxK))] list of minimum and maximum height of associated subsegments (meters) \n",
    "\n",
    "\n",
    "\n",
    "When appearing in a 3D ray a subsegment should have a unique index different from the segment index.\n"
   ]
  },
  {
   "cell_type": "markdown",
   "metadata": {},
   "source": [
    "### The different layout format "
   ]
  },
  {
   "cell_type": "markdown",
   "metadata": {},
   "source": [
    "The layout format has regularly evolved over time and is going to evolve again. \n",
    "Currently, the different recognized file extensions are the following : \n",
    "\n",
    "+ `.str2`: a ASCII file (Node list + edge list) \n",
    "+ `.str`  : a binary file which includes visibility relations between point and segments\n",
    "+ `.ini`  : an ini file which gather node list and edge list as well as the state of the current `display` dictionnary\n",
    "+ `.osm`  : an xml file which can be edited with [JOSM](http://josm.openstreetmap.de/)\n",
    "\n"
   ]
  },
  {
   "cell_type": "code",
   "execution_count": 2,
   "metadata": {
    "collapsed": false
   },
   "outputs": [
    {
     "name": "stderr",
     "output_type": "stream",
     "text": [
      "WARNING:traits.has_traits:DEPRECATED: traits.has_traits.wrapped_class, 'the 'implements' class advisor has been deprecated. Use the 'provides' class decorator.\n"
     ]
    },
    {
     "data": {
      "text/plain": [
       "<matplotlib.figure.Figure at 0x7fd47030cbd0>"
      ]
     },
     "metadata": {},
     "output_type": "display_data"
    }
   ],
   "source": [
    "from pylayers.gis.layout import *\n",
    "from pylayers.util.project import *"
   ]
  },
  {
   "cell_type": "markdown",
   "metadata": {},
   "source": [
    "### Reading an exiting Layout"
   ]
  },
  {
   "cell_type": "markdown",
   "metadata": {},
   "source": [
    "To read an existing layout it is sufficient to create a Layout object with, as an argument, a file name with \n",
    "one of the recognized extension. All files are stored in the `pstruc['DIRSTRUC']` directory of the project. The project root directory \n",
    "is defined in the `$BASENAME` environment variable.\n"
   ]
  },
  {
   "cell_type": "code",
   "execution_count": 3,
   "metadata": {
    "collapsed": false
   },
   "outputs": [
    {
     "name": "stdout",
     "output_type": "stream",
     "text": [
      "struc/str\n"
     ]
    }
   ],
   "source": [
    "print pstruc['DIRSTRUC']"
   ]
  },
  {
   "cell_type": "markdown",
   "metadata": {},
   "source": [
    "`pstruc` is a dictionnary which gathers all directories which are used in `PyLayers`"
   ]
  },
  {
   "cell_type": "code",
   "execution_count": 4,
   "metadata": {
    "collapsed": false
   },
   "outputs": [
    {
     "data": {
      "text/plain": [
       "{'DIRANT': 'ant',\n",
       " 'DIRBODY': 'body',\n",
       " 'DIRC3D': 'body/c3d',\n",
       " 'DIRCIR': 'output',\n",
       " 'DIRCT': 'output/Ct',\n",
       " 'DIRFUR': 'struc/furnitures',\n",
       " 'DIRGEOM': 'geom',\n",
       " 'DIRGIS': 'gis',\n",
       " 'DIRH': 'output/H',\n",
       " 'DIRIMAGE': 'struc/images',\n",
       " 'DIRINI': 'struc/ini',\n",
       " 'DIRLCH': 'output',\n",
       " 'DIRLNK': 'output',\n",
       " 'DIRMAT': 'ini',\n",
       " 'DIRMAT2': 'ini',\n",
       " 'DIRMES': 'meas',\n",
       " 'DIRNETSAVE': 'netsave',\n",
       " 'DIROOSM': 'gis/osm',\n",
       " 'DIROSM': 'struc/osm',\n",
       " 'DIRPICKLE': 'struc/gpickle',\n",
       " 'DIRR2D': 'output/r2d',\n",
       " 'DIRR3D': 'output/r3d',\n",
       " 'DIRSIG': 'output/sig',\n",
       " 'DIRSIMUL': 'ini',\n",
       " 'DIRSLAB': 'ini',\n",
       " 'DIRSLAB2': 'ini',\n",
       " 'DIRSTRUC': 'struc/str',\n",
       " 'DIRSTRUC2': 'struc/str',\n",
       " 'DIRTRA': 'output',\n",
       " 'DIRTUD': 'output',\n",
       " 'DIRTx': 'output/Tx001',\n",
       " 'DIRWEAR': 'body/wear',\n",
       " 'DIRWRL': 'struc/wrl'}"
      ]
     },
     "execution_count": 4,
     "metadata": {},
     "output_type": "execute_result"
    }
   ],
   "source": [
    "pstruc"
   ]
  },
  {
   "cell_type": "markdown",
   "metadata": {},
   "source": [
    "The structure of the `.osm` file is shown below"
   ]
  },
  {
   "cell_type": "code",
   "execution_count": 5,
   "metadata": {
    "collapsed": false
   },
   "outputs": [
    {
     "name": "stdout",
     "output_type": "stream",
     "text": [
      "DLR.osm\n",
      "MOCAP2.osm\n",
      "MOCAP3.osm\n"
     ]
    }
   ],
   "source": [
    "%%bash \n",
    "\n",
    "    cd $BASENAME/struc\n",
    "    ls *.osm\n"
   ]
  },
  {
   "cell_type": "code",
   "execution_count": 6,
   "metadata": {
    "collapsed": false
   },
   "outputs": [
    {
     "name": "stdout",
     "output_type": "stream",
     "text": [
      "<?xml version='1.0' encoding='UTF-8'?>\n",
      "<osm version='0.6' upload='false' generator='PyLayers'>\n",
      "<node id='-212' action='modify' visible='true' lat='47.0100855114' lon='-1.98980710934' />\n",
      "<node id='-210' action='modify' visible='true' lat='47.0100789151' lon='-1.9897910381' />\n",
      "<node id='-208' action='modify' visible='true' lat='47.0100738861' lon='-1.98977878545' />\n",
      "<node id='-206' action='modify' visible='true' lat='47.0100616861' lon='-1.98982814281' />\n",
      "<node id='-204' action='modify' visible='true' lat='47.0101583649' lon='-1.98982436917' />\n",
      "<node id='-202' action='modify' visible='true' lat='47.0101656174' lon='-1.98981796656' />\n",
      "<node id='-200' action='modify' visible='true' lat='47.0101843662' lon='-1.98977935424' />\n",
      "<node id='-198' action='modify' visible='true' lat='47.0101791636' lon='-1.98982426816' />\n",
      "---\n",
      "<tag k='transition' v='False' />\n",
      "</way>\n",
      "<way id='-10000123' action='modify' visible='true'>\n",
      "<nd ref='-200' />\n",
      "<nd ref='-100' />\n",
      "<tag k='name' v='WALL' />\n",
      "<tag k='z' v=\"('0.0', '3.0')\" />\n",
      "<tag k='transition' v='False' />\n",
      "</way>\n",
      "<way id='-10000124' action='modify' visible='true'>\n",
      "<nd ref='-166' />\n",
      "<nd ref='-188' />\n",
      "<tag k='name' v='WALL' />\n",
      "<tag k='z' v=\"('0.0', '3.0')\" />\n",
      "<tag k='transition' v='False' />\n",
      "</way>\n",
      "</osm>\n"
     ]
    }
   ],
   "source": [
    "%%bash \n",
    "    cd $BASENAME/struc\n",
    "    head DLR.osm\n",
    "    echo '---'\n",
    "    tail -17 DLR.osm"
   ]
  },
  {
   "cell_type": "markdown",
   "metadata": {},
   "source": [
    "To read a new layout in osm format :"
   ]
  },
  {
   "cell_type": "code",
   "execution_count": 7,
   "metadata": {
    "collapsed": false
   },
   "outputs": [],
   "source": [
    "L=Layout('DLR.ini')"
   ]
  },
  {
   "cell_type": "code",
   "execution_count": 8,
   "metadata": {
    "collapsed": false
   },
   "outputs": [
    {
     "data": {
      "image/png": "[encoded data removed]",
      "text/plain": [
       "<matplotlib.figure.Figure at 0x7fd4705a5190>"
      ]
     },
     "metadata": {},
     "output_type": "display_data"
    }
   ],
   "source": [
    "fig,ax=L.showGs()"
   ]
  },
  {
   "cell_type": "code",
   "execution_count": 9,
   "metadata": {
    "collapsed": false
   },
   "outputs": [
    {
     "name": "stdout",
     "output_type": "stream",
     "text": [
      "filestr :  DLR.ini\n",
      "filematini :  matDB.ini\n",
      "fileslabini :  slabDB.ini\n",
      "filegeom :  DLR.off\n",
      "boundaries  (758.35, 794.771, 1111.898, 1138.987)\n",
      "number of Points : 105\n",
      "number of Segments : 124\n",
      "number of Sub-Segments : 30\n",
      "Gs Nodes :  229\n",
      "Gs Edges :  248\n",
      "Gt Nodes :  21\n",
      "Gt Edges :  52\n",
      "vnodes = Gt.node[Nc]['cycles'].cycle \n",
      "poly = Gt.node[Nc]['cycle'].polyg \n",
      "Gr Nodes    : 18\n",
      "Gr Edges    : 18\n",
      "Nc  = Gr.node[nroom]['cycles']  \n"
     ]
    }
   ],
   "source": [
    "L.info()"
   ]
  },
  {
   "cell_type": "markdown",
   "metadata": {},
   "source": [
    "The different graphs associated with the layout are then built"
   ]
  },
  {
   "cell_type": "code",
   "execution_count": null,
   "metadata": {
    "collapsed": false
   },
   "outputs": [
    {
     "name": "stderr",
     "output_type": "stream",
     "text": [
      "CRITICAL:root:segment are not connected\n"
     ]
    },
    {
     "name": "stdout",
     "output_type": "stream",
     "text": [
      "> /home/uguen/Documents/rch/devel/pylayers/pylayers/util/cone.py(550)from2csegs()\n",
      "-> self.apex = p\n"
     ]
    }
   ],
   "source": [
    "L.build()"
   ]
  },
  {
   "cell_type": "markdown",
   "metadata": {},
   "source": [
    "The topological graph $\\mathcal{G}_t$ or graph of non overlapping cycles."
   ]
  },
  {
   "cell_type": "code",
   "execution_count": 14,
   "metadata": {
    "collapsed": false
   },
   "outputs": [],
   "source": [
    "f,a=L.showG('t')\n",
    "b=plt.axis('off')"
   ]
  },
  {
   "cell_type": "markdown",
   "metadata": {},
   "source": [
    "The graph of room $\\mathcal{G}_r$. Two rooms which share at least a wall are connected. \n",
    "Two rooms which share only a corner (punctual connection) are not connected "
   ]
  },
  {
   "cell_type": "code",
   "execution_count": 15,
   "metadata": {
    "collapsed": false
   },
   "outputs": [],
   "source": [
    "f,a=L.showG('r')\n",
    "b=plt.axis('off')"
   ]
  },
  {
   "cell_type": "markdown",
   "metadata": {},
   "source": [
    "The graph of waypath $\\mathcal{G}_w$. This graph is used for agent mobility. This allows to determine the shortest path between 2 rooms. This information could be included in the osm file. This is not the case yet"
   ]
  },
  {
   "cell_type": "code",
   "execution_count": 16,
   "metadata": {
    "collapsed": false
   },
   "outputs": [],
   "source": [
    "f,a=L.showG('w')\n",
    "b=plt.axis('off')"
   ]
  },
  {
   "cell_type": "markdown",
   "metadata": {},
   "source": [
    "The graph of visibility $\\mathcal{G_v}$"
   ]
  },
  {
   "cell_type": "code",
   "execution_count": 17,
   "metadata": {
    "collapsed": false
   },
   "outputs": [],
   "source": [
    "f,a=L.showG('v')\n",
    "b=plt.axis('off')"
   ]
  },
  {
   "cell_type": "markdown",
   "metadata": {},
   "source": [
    "The graph of interactions $\\mathcal{G}_i$ used to determine the ray signatures.\n"
   ]
  },
  {
   "cell_type": "code",
   "execution_count": 18,
   "metadata": {
    "collapsed": false
   },
   "outputs": [],
   "source": [
    "f=plt.figure(figsize=(15,15))\n",
    "a = f.gca()\n",
    "f,a=L.showG('i',fig=f,ax=a)\n",
    "b= plt.axis('off')"
   ]
  },
  {
   "cell_type": "markdown",
   "metadata": {},
   "source": [
    "### The display options dictionnary "
   ]
  },
  {
   "cell_type": "code",
   "execution_count": 19,
   "metadata": {
    "collapsed": false
   },
   "outputs": [
    {
     "name": "stdout",
     "output_type": "stream",
     "text": [
      "filestr :  DLR.ini\n",
      "filematini :  matDB.ini\n",
      "fileslabini :  slabDB.ini\n",
      "filegeom :  DLR.off\n",
      "boundaries  (758.35, 794.771, 1111.898, 1138.987)\n",
      "number of Points : 105\n",
      "number of Segments : 124\n",
      "number of Sub-Segments : 30\n",
      "Gs Nodes :  229\n",
      "Gs Edges :  248\n",
      "Gt Nodes :  21\n",
      "Gt Edges :  52\n",
      "vnodes = Gt.node[Nc]['cycles'].cycle \n",
      "poly = Gt.node[Nc]['cycle'].polyg \n",
      "Gr Nodes    : 16\n",
      "Gr Edges    : 16\n",
      "Nc  = Gr.node[nroom]['cycles']  \n"
     ]
    }
   ],
   "source": [
    "L.info()"
   ]
  },
  {
   "cell_type": "markdown",
   "metadata": {},
   "source": [
    "The layout can be displayed using matplotlib ploting primitive. Several display options are specified in the display dictionnary. Those options are exploited in `showGs()` vizualisation method. \n",
    "\n"
   ]
  },
  {
   "cell_type": "code",
   "execution_count": 20,
   "metadata": {
    "collapsed": false
   },
   "outputs": [
    {
     "data": {
      "text/plain": [
       "{'activelayer': 'WINDOW_GLASS',\n",
       " 'alpha': 0.5,\n",
       " 'box': (758.35, 794.771, 1111.898, 1138.987),\n",
       " 'clear': False,\n",
       " 'edges': True,\n",
       " 'edlabel': False,\n",
       " 'edlblsize': 20,\n",
       " 'ednodes': False,\n",
       " 'fileoverlay': '',\n",
       " 'fontsize': 20,\n",
       " 'inverse': False,\n",
       " 'layer': [],\n",
       " 'layers': ['WALL', 'PARTITION', 'AIR', '3D_WINDOW_GLASS'],\n",
       " 'layerset': ['WINDOW_GLASS',\n",
       "  'PLASTERBOARD_7CM',\n",
       "  'WALL',\n",
       "  'AIR',\n",
       "  'WINDOW',\n",
       "  'METALIC',\n",
       "  'PLASTERBOARD_14CM',\n",
       "  'DOOR',\n",
       "  'FLOOR',\n",
       "  'METAL',\n",
       "  'PARTITION',\n",
       "  'CONCRETE_20CM3D',\n",
       "  'PLASTERBOARD_10CM',\n",
       "  'CEIL',\n",
       "  'CONCRETE_6CM3D',\n",
       "  'CONCRETE_15CM3D',\n",
       "  '3D_WINDOW_GLASS',\n",
       "  'WALLS',\n",
       "  'WOOD',\n",
       "  'CONCRETE_7CM3D',\n",
       "  'PILLAR',\n",
       "  'ABSORBENT'],\n",
       " 'ndlabel': False,\n",
       " 'ndlblsize': 20,\n",
       " 'ndsize': 10,\n",
       " 'nodes': False,\n",
       " 'overlay': False,\n",
       " 'scaled': True,\n",
       " 'subseg': True,\n",
       " 'thin': False,\n",
       " 'ticksoff': True,\n",
       " 'title': '',\n",
       " 'visu': False}"
      ]
     },
     "execution_count": 20,
     "metadata": {},
     "output_type": "execute_result"
    }
   ],
   "source": [
    "L.display"
   ]
  },
  {
   "cell_type": "markdown",
   "metadata": {},
   "source": [
    "#### Layers"
   ]
  },
  {
   "cell_type": "markdown",
   "metadata": {},
   "source": [
    " + 'layer' : list , []\n",
    " + 'layerset',list, list of available layers \n",
    " + 'layers', list , []\n",
    " + 'activelayer', str , 'WINDOW_GLASS'\n",
    "\n",
    "        \n",
    " + 'alpha', float , 0.5 , overlay transparency \n",
    " + 'box', tuple , (-20,20,-10,10), (xmin xmax,ymin,ymax)\n"
   ]
  },
  {
   "cell_type": "markdown",
   "metadata": {},
   "source": [
    "#### Strings"
   ]
  },
  {
   "cell_type": "markdown",
   "metadata": {},
   "source": [
    " + 'title' : str , 'Init'\n",
    " + 'fileoverlay' : str , 'TA-Office.png'"
   ]
  },
  {
   "cell_type": "markdown",
   "metadata": {},
   "source": [
    "#### Sizes"
   ]
  },
  {
   "cell_type": "markdown",
   "metadata": {},
   "source": [
    " + 'fontsize', float , 10\n",
    " + 'ndsize', float , 10 \n",
    " + 'ndlblsize' : float  20 \n",
    " + 'edlblsize' : float , 20"
   ]
  },
  {
   "cell_type": "markdown",
   "metadata": {},
   "source": [
    "#### Booleans "
   ]
  },
  {
   "cell_type": "markdown",
   "metadata": {},
   "source": [
    " + 'edlabel', boolean, False\n",
    " + 'ticksoff',boolean, True\n",
    " + 'scaled' :  boolean , True\n",
    " + 'subseg' : boolean , True\n",
    " + 'nodes', boolean , True\n",
    " + 'visu', boolean , False\n",
    " + 'edges', boolean , True\n",
    " + 'clear', boolean, False\n",
    " + 'overlay', boolean , False\n",
    " + 'thin', boolean , False , If True trace all segments with thickness 1 \n",
    " + 'ndlabel',boolean, If True display node labels\n",
    " + 'ednodes', boolean, True"
   ]
  },
  {
   "cell_type": "markdown",
   "metadata": {},
   "source": [
    "### Interactive editor"
   ]
  },
  {
   "cell_type": "markdown",
   "metadata": {},
   "source": [
    "The command L.editor() launches an interactive editor. The state machine is implemented in module `pylayers.gis.selectl.py`.\n",
    "\n",
    "To have an idea of all available options, look in the [`pylayers.gis.SelectL`](  \n",
    "http://pylayers.github.io/pylayers/_modules/pylayers/gis/selectl.html#SelectL.new_state) module\n",
    "\n",
    "All bug correction and ergonomic improvement of this editor is welcome. Just pull request your modifications. \n"
   ]
  },
  {
   "cell_type": "markdown",
   "metadata": {},
   "source": [
    "PyLayers comes along with a low level structure editor based on `matplotlib` which can be invoqued using the `editor()` method. \n",
    "This editor is more suited for modyfing constitutive properties of walls. In the future a dedicated plugin in `JOSM`\n",
    "could be a much better solution. \n",
    "\n",
    "\n",
    "There are two different modes of edition \n",
    "\n",
    "+ A create points mode CP \n",
    "\n",
    "    + left clic   : free point \n",
    "    + right clic  : same x point \n",
    "    + center clic : same y point     \n",
    "\n",
    "+ A create segments mode\n",
    "    + left clic   : select point 1\n",
    "    + left clic   : select point 2\n",
    "    + left clic   : create a segment between point 1 and point 2    \n",
    "\n",
    "**m**  : to switch from one mode to an other\n",
    "\n",
    "**i** : to return to init state    \n",
    "\n"
   ]
  },
  {
   "cell_type": "markdown",
   "metadata": {},
   "source": [
    "#### Image overlay"
   ]
  },
  {
   "cell_type": "markdown",
   "metadata": {},
   "source": [
    "It is useful while editing a layout to have an overlay of an image in order to help placing points. The image overlay can either be an url \n",
    "or a filename. In that case the file is stored in "
   ]
  },
  {
   "cell_type": "code",
   "execution_count": 21,
   "metadata": {
    "collapsed": false
   },
   "outputs": [],
   "source": [
    "L=Layout()\n",
    "L.display['fileoverlay']='http://images.wikia.com/theoffice/images/9/9e/Layout.jpg'"
   ]
  },
  {
   "cell_type": "code",
   "execution_count": 22,
   "metadata": {
    "collapsed": false
   },
   "outputs": [],
   "source": [
    "L.display['overlay']=True\n",
    "L.display['alpha']=1\n",
    "L.display['scaled']=False\n",
    "L.display['ticksoff']=False\n",
    "L.display['inverse']=True"
   ]
  },
  {
   "cell_type": "code",
   "execution_count": 23,
   "metadata": {
    "collapsed": false
   },
   "outputs": [
    {
     "data": {
      "text/plain": [
       "(<matplotlib.figure.Figure at 0x7f49b9e4b450>,\n",
       " <matplotlib.axes.AxesSubplot at 0x7f49b9aff290>)"
      ]
     },
     "execution_count": 23,
     "metadata": {},
     "output_type": "execute_result"
    }
   ],
   "source": [
    "plt.figure(figsize=(10,10))\n",
    "L.showGs()"
   ]
  },
  {
   "cell_type": "markdown",
   "metadata": {},
   "source": [
    "#### Scaling the figure overlay"
   ]
  },
  {
   "cell_type": "markdown",
   "metadata": {},
   "source": [
    "Before going further it is necessary : \n",
    "    \n",
    "+ to place the global origin \n",
    "+ to precise the vertical and horizontal scale of the image \n",
    "    \n",
    "This is done by the following commands : \n",
    "\n",
    "+ 'i' : back to init state\n",
    "+ 'm' : goes to CP state \n",
    "+ 'o' : define the origin \n",
    "+  'left click' on the point of the figure chasen as the origin\n",
    "+  'left click' on a point at a known distance from the origin along x axis. Fill the dialog box with the actual distance (expressed in meters) between the two points. \n",
    "+  'left click' on a point at a known distance from the origin along y axis. Fill the dialog box with the actual distance (expressed in meters) between the two points. \n",
    "\n",
    "In that sequence of operation it is useful to rescale the figure with 'r'."
   ]
  },
  {
   "cell_type": "markdown",
   "metadata": {},
   "source": [
    "At that stage, it is possible to start creating points"
   ]
  },
  {
   "cell_type": "markdown",
   "metadata": {},
   "source": [
    "        'b'  : selct a segment \n",
    "        'l'  : select activelayer\n",
    "        'i'  : back to init state\n",
    "        'e'  : edit segment\n",
    "        't'  : translate  structure\n",
    "        'h'  : add subsegment\n",
    "        'd'  : delete subsegment\n",
    "        'r'  : refresh\n",
    "        'o'  : toggle overlay\n",
    "        'm'  : toggle mode (point or segment)\n",
    "        'z'  : change display parameters\n",
    "        'q'  : quit interactive mode\n",
    "        'x'  : save .str2 file\n",
    "        'w'  : display all layers\n"
   ]
  },
  {
   "cell_type": "markdown",
   "metadata": {},
   "source": [
    "#### Vizualisation of the layout"
   ]
  },
  {
   "cell_type": "code",
   "execution_count": 24,
   "metadata": {
    "collapsed": false
   },
   "outputs": [],
   "source": [
    "L = Layout('TA-Office.ini')\n",
    "L.dumpr()\n",
    "fig = plt.figure(figsize=(25,25))\n",
    "ax = fig.gca()\n",
    "fig,ax = L.showG(fig=fig,ax=ax,graph='s',labels=True,font_size=9,node_size=220,node_color='c')\n",
    "a = plt.axis('off')"
   ]
  },
  {
   "cell_type": "markdown",
   "metadata": {},
   "source": [
    "Each node of $\\mathcal{G}_s$ with a negative index is a point. \n",
    "\n",
    "Each node of $\\mathcal{G}_s$ with a positive index corresponds to a segment (wall,door,window,...)."
   ]
  },
  {
   "cell_type": "markdown",
   "metadata": {},
   "source": [
    "The segment name is the key of the **slab** dictionnary."
   ]
  },
  {
   "cell_type": "markdown",
   "metadata": {},
   "source": [
    "[Multi Subsegments](./Multisubsegments.ipynb)"
   ]
  }
 ],
 "metadata": {
  "kernelspec": {
   "display_name": "Python 2",
   "language": "python",
   "name": "python2"
  },
  "language_info": {
   "codemirror_mode": {
    "name": "ipython",
    "version": 2
   },
   "file_extension": ".py",
   "mimetype": "text/x-python",
   "name": "python",
   "nbconvert_exporter": "python",
   "pygments_lexer": "ipython2",
   "version": "2.7.9"
  }
 },
 "nbformat": 4,
 "nbformat_minor": 0
}
