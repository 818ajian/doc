{
 "cells": [
  {
   "cell_type": "code",
   "execution_count": 4,
   "metadata": {
    "collapsed": false
   },
   "outputs": [
    {
     "name": "stdout",
     "output_type": "stream",
     "text": [
      "samedi 30 juillet 2016, 17:05:50 (UTC+0200)\r\n"
     ]
    }
   ],
   "source": [
    "!date"
   ]
  },
  {
   "cell_type": "markdown",
   "metadata": {},
   "source": [
    "# Effect of Modifying the Nature of Sub-Segments\n",
    "\n",
    "This notebook illustrates a simple ray tracing simulation with different\n",
    "material properties for a single segment separating 2 rooms which contains multi subsegments. The notebook illustrates in details the whole steps."
   ]
  },
  {
   "cell_type": "code",
   "execution_count": 5,
   "metadata": {
    "collapsed": false
   },
   "outputs": [],
   "source": [
    "from pylayers.simul.link import *\n",
    "from pylayers.antprop.rays import *\n",
    "from pylayers.antprop.aarray import *\n",
    "from pylayers.antprop.channel import *\n",
    "from pylayers.gis.layout import *\n",
    "from pylayers.antprop.signature import *\n",
    "import pylayers.signal.bsignal as bs\n",
    "import pylayers.signal.waveform as wvf\n",
    "from pylayers.simul.simulem import *\n",
    "import matplotlib.pyplot as plt\n",
    "%matplotlib inline"
   ]
  },
  {
   "cell_type": "markdown",
   "metadata": {},
   "source": [
    "Let's start by loading a simple layout with 2 single rooms. The multi subsegment\n",
    "appears in the middle with the red vertical lines. Each subsegment is\n",
    "materialized by a  segment."
   ]
  },
  {
   "cell_type": "code",
   "execution_count": 6,
   "metadata": {
    "collapsed": true
   },
   "outputs": [],
   "source": [
    "L=Layout('defstr.ini')\n",
    "f,a=L.showG('s',subseg=True,figsize=(10,10))"
   ]
  },
  {
   "cell_type": "markdown",
   "metadata": {},
   "source": [
    "The studied configuration is composed of a simple 2 rooms building separated by\n",
    "a subsegment which has a multi subsegment attribute. The attribute of the\n",
    "subsegment can be changed  with the method [`chgmss`](http://pylayers.github.io/\n",
    "pylayers/modules/generated/pylayers.gis.layout.Layout.chgmss.html) (change\n",
    "multisubsegment). In the example WOOD in the lower part then 10cm of AIR then\n",
    "wood again until the ceiling."
   ]
  },
  {
   "cell_type": "code",
   "execution_count": 7,
   "metadata": {
    "collapsed": true
   },
   "outputs": [],
   "source": [
    "L.chgmss(1,ss_name=['WOOD','AIR','WOOD'],ss_z =[(0.0,2.7),(2.7,2.8),(2.8,3)],ss_offset=[0,0,0])"
   ]
  },
  {
   "cell_type": "markdown",
   "metadata": {},
   "source": [
    "As the Layout structure has been modified, it is required to rebuild the\n",
    "structure."
   ]
  },
  {
   "cell_type": "code",
   "execution_count": 8,
   "metadata": {
    "collapsed": false
   },
   "outputs": [
    {
     "name": "stdout",
     "output_type": "stream",
     "text": [
      "building Layout ...\n",
      "check len(ncycles) == 2 passed\n",
      "defstr.ini\n"
     ]
    }
   ],
   "source": [
    "L.build()\n",
    "L.save()"
   ]
  },
  {
   "cell_type": "markdown",
   "metadata": {},
   "source": [
    "The $\\mathcal{G}_s$ graph dictionary has the following structure"
   ]
  },
  {
   "cell_type": "code",
   "execution_count": 9,
   "metadata": {
    "collapsed": false
   },
   "outputs": [
    {
     "data": {
      "text/plain": [
       "{-12: {'ncycles': [5, 14]},\n",
       " -11: {'ncycles': [14, 16]},\n",
       " -10: {'ncycles': [11, 16]},\n",
       " -9: {'ncycles': [5, 11]},\n",
       " -8: {'ncycles': [7, 15]},\n",
       " -7: {'ncycles': [7, 15]},\n",
       " -6: {'ncycles': [5, 7, 14]},\n",
       " -5: {'ncycles': [7, 14, 15]},\n",
       " -4: {'ncycles': [14, 15, 16]},\n",
       " -3: {'ncycles': [11, 15, 16]},\n",
       " -2: {'ncycles': [7, 11, 15]},\n",
       " -1: {'ncycles': [5, 7, 11]},\n",
       " 1: {'connect': [-8, -7],\n",
       "  'name': 'PARTITION',\n",
       "  'norm': array([-1.,  0.,  0.]),\n",
       "  'offset': 0,\n",
       "  'ss_name': ['WOOD', 'AIR', 'WOOD'],\n",
       "  'ss_offset': [0, 0, 0],\n",
       "  'ss_z': [(0.0, 2.7), (2.7, 2.8), (2.8, 3)],\n",
       "  'transition': True,\n",
       "  'z': (0.0, 3.0)},\n",
       " 2: {'connect': [-8, -2],\n",
       "  'name': 'WALL',\n",
       "  'norm': array([ 1.,  0.,  0.]),\n",
       "  'offset': 0,\n",
       "  'transition': False,\n",
       "  'z': (0.0, 3.0)},\n",
       " 3: {'connect': [-7, -5],\n",
       "  'name': 'WALL',\n",
       "  'norm': array([-1.,  0.,  0.]),\n",
       "  'offset': 0,\n",
       "  'transition': False,\n",
       "  'z': (0.0, 3.0)},\n",
       " 4: {'connect': [-6, -1],\n",
       "  'name': 'WALL',\n",
       "  'norm': array([ 1.,  0.,  0.]),\n",
       "  'offset': 0,\n",
       "  'transition': False,\n",
       "  'z': (0.0, 3.0)},\n",
       " 5: {'connect': [-6, -5],\n",
       "  'name': 'WALL',\n",
       "  'norm': array([ 0.,  1.,  0.]),\n",
       "  'offset': 0,\n",
       "  'transition': False,\n",
       "  'z': (0.0, 3.0)},\n",
       " 6: {'connect': [-5, -4],\n",
       "  'name': 'WALL',\n",
       "  'norm': array([ 0.,  1.,  0.]),\n",
       "  'offset': 0,\n",
       "  'transition': False,\n",
       "  'z': (0.0, 3.0)},\n",
       " 7: {'connect': [-4, -3],\n",
       "  'name': 'WALL',\n",
       "  'norm': array([ 1.,  0.,  0.]),\n",
       "  'offset': 0,\n",
       "  'transition': False,\n",
       "  'z': (0.0, 3.0)},\n",
       " 8: {'connect': [-3, -2],\n",
       "  'name': 'WALL',\n",
       "  'norm': array([ 0., -1.,  0.]),\n",
       "  'offset': 0,\n",
       "  'transition': False,\n",
       "  'z': (0.0, 3.0)},\n",
       " 9: {'connect': [-2, -1],\n",
       "  'name': 'WALL',\n",
       "  'norm': array([ 0.05989229, -0.99820485,  0.        ]),\n",
       "  'offset': 0,\n",
       "  'transition': False,\n",
       "  'z': (0.0, 3.0)},\n",
       " 10: {'connect': [-9, -10],\n",
       "  'name': '_AIR',\n",
       "  'ncycles': [11, 0],\n",
       "  'norm': array([ 0., -1.,  0.]),\n",
       "  'offset': 0,\n",
       "  'transition': True,\n",
       "  'z': [0.0, 3.0]},\n",
       " 11: {'connect': [-10, -11],\n",
       "  'name': '_AIR',\n",
       "  'ncycles': [16, 0],\n",
       "  'norm': array([ 1.,  0.,  0.]),\n",
       "  'offset': 0,\n",
       "  'transition': True,\n",
       "  'z': [0.0, 3.0]},\n",
       " 12: {'connect': [-11, -12],\n",
       "  'name': '_AIR',\n",
       "  'ncycles': [14, 0],\n",
       "  'norm': array([ 0.,  1.,  0.]),\n",
       "  'offset': 0,\n",
       "  'transition': True,\n",
       "  'z': [0.0, 3.0]},\n",
       " 13: {'connect': [-12, -9],\n",
       "  'name': '_AIR',\n",
       "  'ncycles': [5, 0],\n",
       "  'norm': array([ 1.,  0.,  0.]),\n",
       "  'offset': 0,\n",
       "  'transition': True,\n",
       "  'z': [0.0, 3.0]},\n",
       " 15: {'connect': [-1, -9],\n",
       "  'name': '_AIR',\n",
       "  'ncycles': [5, 11],\n",
       "  'norm': array([ 0.39502775, -0.91866919,  0.        ]),\n",
       "  'offset': 0,\n",
       "  'transition': True,\n",
       "  'z': [0, 40000000]},\n",
       " 19: {'connect': [-6, -12],\n",
       "  'name': '_AIR',\n",
       "  'ncycles': [5, 14],\n",
       "  'norm': array([-0.39502775, -0.91866919,  0.        ]),\n",
       "  'offset': 0,\n",
       "  'transition': True,\n",
       "  'z': [0, 40000000]},\n",
       " 25: {'connect': [-10, -3],\n",
       "  'name': '_AIR',\n",
       "  'ncycles': [11, 16],\n",
       "  'norm': array([ 0.53303766,  0.84609152,  0.        ]),\n",
       "  'offset': 0,\n",
       "  'transition': True,\n",
       "  'z': [0, 40000000]},\n",
       " 28: {'connect': [-4, -11],\n",
       "  'name': '_AIR',\n",
       "  'ncycles': [14, 16],\n",
       "  'norm': array([-0.39502775,  0.91866919,  0.        ]),\n",
       "  'offset': 0,\n",
       "  'transition': True,\n",
       "  'z': [0, 40000000]}}"
      ]
     },
     "execution_count": 9,
     "metadata": {},
     "output_type": "execute_result"
    }
   ],
   "source": [
    "L.Gs.node"
   ]
  },
  {
   "cell_type": "markdown",
   "metadata": {},
   "source": [
    "We define now two points which are the termination of a radio link."
   ]
  },
  {
   "cell_type": "code",
   "execution_count": 10,
   "metadata": {
    "collapsed": true
   },
   "outputs": [],
   "source": [
    "#tx=np.array([759,1114,1.5])\n",
    "#rx=np.array([767,1114,1.5])\n",
    "tx=np.array([759,1114,1.5])\n",
    "rx=np.array([767,1114,1.5])"
   ]
  },
  {
   "cell_type": "code",
   "execution_count": 11,
   "metadata": {
    "collapsed": false
   },
   "outputs": [
    {
     "name": "stdout",
     "output_type": "stream",
     "text": [
      "defstr.ini\n"
     ]
    }
   ],
   "source": [
    "L.chgmss(1,ss_name=['WOOD','AIR','WOOD'],ss_z =[(0.0,2.7),(2.7,2.8),(2.8,3)],ss_offset=[0,0,0])\n",
    "L.save()"
   ]
  },
  {
   "cell_type": "code",
   "execution_count": 12,
   "metadata": {
    "collapsed": true
   },
   "outputs": [],
   "source": [
    "fGHz=np.linspace(1,11,100)\n",
    "#Aa = Antenna('S1R1.vsh3')\n",
    "#Ab = Antenna('S1R1.vsh3')\n",
    "Aa = Antenna('Gauss',fGHz=fGHz)\n",
    "Ab = Antenna('Gauss',fGHz=fGHz)\n",
    "Ab.eval()\n",
    "Aa.eval()\n",
    "#Aa = AntArray(N=[8,1,1],fGHz=fGHz)\n",
    "#Ab = AntArray(N=[4,1,1],fGHz=fGHz)\n",
    "Lk = DLink(L=L,a=tx,b=rx,Aa=Aa,Ab=Ab,fGHz=fGHz,cutoff=5)\n",
    "ak,tauk=Lk.eval(force=True,verbose=False)"
   ]
  },
  {
   "cell_type": "code",
   "execution_count": 13,
   "metadata": {
    "collapsed": false
   },
   "outputs": [
    {
     "data": {
      "text/plain": [
       "(800, 1, 100)"
      ]
     },
     "execution_count": 13,
     "metadata": {},
     "output_type": "execute_result"
    }
   ],
   "source": [
    "ak.shape"
   ]
  },
  {
   "cell_type": "code",
   "execution_count": 14,
   "metadata": {
    "collapsed": false
   },
   "outputs": [
    {
     "data": {
      "text/plain": [
       "<Container object of 3 artists>"
      ]
     },
     "execution_count": 14,
     "metadata": {},
     "output_type": "execute_result"
    }
   ],
   "source": [
    "plt.stem(tauk,ak[:,0,0])"
   ]
  },
  {
   "cell_type": "markdown",
   "metadata": {},
   "source": [
    "A link is the set of a layout and 2 termination points."
   ]
  },
  {
   "cell_type": "code",
   "execution_count": 15,
   "metadata": {
    "collapsed": false
   },
   "outputs": [
    {
     "data": {
      "text/plain": [
       "(<matplotlib.figure.Figure at 0x7efd15f06690>,\n",
       " <matplotlib.projections.polar.PolarAxes at 0x7efd14459f90>)"
      ]
     },
     "execution_count": 15,
     "metadata": {},
     "output_type": "execute_result"
    }
   ],
   "source": [
    "Aa.eval()\n",
    "Aa.plotG()"
   ]
  },
  {
   "cell_type": "code",
   "execution_count": null,
   "metadata": {
    "collapsed": false
   },
   "outputs": [
    {
     "data": {
      "text/plain": [
       "FUsignal :  (100,)  (800, 100) "
      ]
     },
     "execution_count": 16,
     "metadata": {},
     "output_type": "execute_result"
    }
   ],
   "source": [
    "Lk.C.Ctt"
   ]
  },
  {
   "cell_type": "code",
   "execution_count": null,
   "metadata": {
    "collapsed": true
   },
   "outputs": [],
   "source": [
    "#f,a=Lk.show(rays=True)\n",
    "f,a=Lk.show(rays=True,aw=0)"
   ]
  },
  {
   "cell_type": "markdown",
   "metadata": {},
   "source": [
    "On the figure above, we can see the Tx and Rx each placed in a different room\n",
    "apart from a wall with a subsegment placed in the middle.\n",
    "Then for evaluating the radio link, simply type:"
   ]
  },
  {
   "cell_type": "code",
   "execution_count": null,
   "metadata": {
    "collapsed": true
   },
   "outputs": [],
   "source": [
    "ak,tauk=Lk.eval(force=True,a=tx,b=rx,applywav=True)"
   ]
  },
  {
   "cell_type": "code",
   "execution_count": null,
   "metadata": {
    "collapsed": true
   },
   "outputs": [],
   "source": [
    "Lk.C"
   ]
  },
  {
   "cell_type": "code",
   "execution_count": null,
   "metadata": {
    "collapsed": true
   },
   "outputs": [],
   "source": [
    "f = plt.figure(figsize=(10,10))\n",
    "f,a=Lk.C.show(cmap='jet',fig=f,typ='l20',vmin=-120,vmax=-10)"
   ]
  },
  {
   "cell_type": "code",
   "execution_count": null,
   "metadata": {
    "collapsed": true
   },
   "outputs": [],
   "source": [
    "fGHz=np.arange(2,6,0.1)\n",
    "wav = wvf.Waveform(fcGHz=4,bandGHz=1.5)\n",
    "wav.show()"
   ]
  },
  {
   "cell_type": "code",
   "execution_count": null,
   "metadata": {
    "collapsed": true
   },
   "outputs": [],
   "source": [
    "Lk = DLink(L=L,a=tx,b=rx,fGHz=fGHz)"
   ]
  },
  {
   "cell_type": "code",
   "execution_count": null,
   "metadata": {
    "collapsed": true
   },
   "outputs": [],
   "source": [
    "Lk.a"
   ]
  },
  {
   "cell_type": "code",
   "execution_count": null,
   "metadata": {
    "collapsed": true
   },
   "outputs": [],
   "source": [
    "Lk.b"
   ]
  },
  {
   "cell_type": "code",
   "execution_count": null,
   "metadata": {
    "collapsed": true
   },
   "outputs": [],
   "source": [
    "cir = Lk.H.applywavB(wav.sf)"
   ]
  },
  {
   "cell_type": "code",
   "execution_count": null,
   "metadata": {
    "collapsed": true
   },
   "outputs": [],
   "source": [
    "layer = ['AIR','AIR','AIR']\n",
    "Lk.L.chgmss(1,ss_name=layer)\n",
    "Lk.L.Gs.node[1]['ss_name']=layer\n",
    "Lk.L.g2npy()\n",
    "Lk.L.save()\n",
    "#Aa = Antenna('Omni',fGHz=fGHz)\n",
    "#Aa = Antenna('Omni',fGHz=fGHz)\n",
    "ak,tauk=Lk.eval(force=True,verbose=0,fGHz=fGHz)\n",
    "#plt.stem(Lk.H.taud,Lk.H.ak)\n",
    "#plt.stem(Lk.H.taud,Lk.H.ak[:,0,50])"
   ]
  },
  {
   "cell_type": "code",
   "execution_count": null,
   "metadata": {
    "collapsed": true
   },
   "outputs": [],
   "source": [
    "Lk.H.ak.shape"
   ]
  },
  {
   "cell_type": "code",
   "execution_count": null,
   "metadata": {
    "collapsed": true
   },
   "outputs": [],
   "source": [
    "cirair = Lk.H.applywavB(wav.sf)"
   ]
  },
  {
   "cell_type": "code",
   "execution_count": null,
   "metadata": {
    "collapsed": true
   },
   "outputs": [],
   "source": [
    "layer = ['METAL','METAL','METAL']\n",
    "Lk.L.chgmss(1,ss_name=layer)\n",
    "Lk.L.Gs.node[1]['ss_name']=layer\n",
    "Lk.L.g2npy()\n",
    "Lk.L.save()\n",
    "Lk.eval(force=True)\n",
    "cirmet = Lk.H.applywavB(wav.sf)\n",
    "cirmet.plot(typ=['v'],xmin=20,xmax=180)"
   ]
  },
  {
   "cell_type": "code",
   "execution_count": null,
   "metadata": {
    "collapsed": true
   },
   "outputs": [],
   "source": [
    "#fig2=plt.figure()\n",
    "f,a=cirair.plot(typ=['l20'],color='b')\n",
    "plt.axis([0,120,-120,-40])\n",
    "plt.title('A simple illustration of shadowing effect')\n",
    "plt.legend(['air'])\n",
    "f,a=cirmet.plot(typ=['l20'],color='r')\n",
    "plt.axis([0,120,-120,-40])\n",
    "plt.legend(['metal'])"
   ]
  },
  {
   "cell_type": "markdown",
   "metadata": {},
   "source": [
    "We have modified successively the nature of the 3 surfaces in the sub segment\n",
    "placed in the separation partition. The first was AIR, the second WOOD and the\n",
    "third METAL. As the subsegment is placed on the LOS path the blockage effect is\n",
    "clearly visible.\n",
    "The chosen antennas were omni directional `Antenna('Omni')`"
   ]
  },
  {
   "cell_type": "code",
   "execution_count": null,
   "metadata": {
    "collapsed": true
   },
   "outputs": [],
   "source": [
    "Lk.ir.plot(typ='v')"
   ]
  }
 ],
 "metadata": {
  "kernelspec": {
   "display_name": "Python [Root]",
   "language": "python",
   "name": "Python [Root]"
  },
  "language_info": {
   "codemirror_mode": {
    "name": "ipython",
    "version": 2
   },
   "file_extension": ".py",
   "mimetype": "text/x-python",
   "name": "python",
   "nbconvert_exporter": "python",
   "pygments_lexer": "ipython2",
   "version": "2.7.12"
  }
 },
 "nbformat": 4,
 "nbformat_minor": 0
}
