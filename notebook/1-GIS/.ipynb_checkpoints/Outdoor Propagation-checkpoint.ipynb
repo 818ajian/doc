{
 "metadata": {
  "name": "",
  "signature": "sha256:48da6543b61ef5d399f2944ba849f5259f868153b1463acbf7d9998b2d280b62"
 },
 "nbformat": 3,
 "nbformat_minor": 0,
 "worksheets": []
}