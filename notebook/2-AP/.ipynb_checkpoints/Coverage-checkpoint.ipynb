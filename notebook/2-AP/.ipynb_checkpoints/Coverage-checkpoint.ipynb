{
 "cells": [
  {
   "cell_type": "markdown",
   "metadata": {},
   "source": [
    "#  Indoor Coverage with the PyLayers Multi Wall model "
   ]
  },
  {
   "cell_type": "markdown",
   "metadata": {},
   "source": [
    "> A Multi wall model accounts only for the attenuation along the direct path between Tx and Rx. \n",
    "\n",
    "> This approach do not provide any\n",
    "information about delay spread or multi paths but it can nevertheless be useful in different context as optimization of an indoor radio network. The MultiWall approach provides a fast indication about the propagation losses. \n",
    "\n",
    "> A ray tracing approach is much more precise, but  also is much more time consuming and depending on the purpose, it could be relevant \n",
    "> to proceed with a simpler and faster site-specific approach as the Multiwall model. \n",
    "\n",
    ">**`PyLayers`** provides a multiwall module which heavily relies on the core class **`Slab`**. Notice that, the same core **`Slab`** module is used for Ray tracing and MultiWall model approaches."
   ]
  },
  {
   "cell_type": "markdown",
   "metadata": {},
   "source": [
    "Let see, how it works.\n",
    "First let's import the `coverage` module. And the `time` module for performance evaluation. "
   ]
  },
  {
   "cell_type": "code",
   "execution_count": 2,
   "metadata": {
    "collapsed": false
   },
   "outputs": [
    {
     "name": "stderr",
     "output_type": "stream",
     "text": [
      "WARNING:traits.has_traits:DEPRECATED: traits.has_traits.wrapped_class, 'the 'implements' class advisor has been deprecated. Use the 'provides' class decorator.\n"
     ]
    }
   ],
   "source": [
    "from pylayers.antprop.coverage import *\n",
    "import time"
   ]
  },
  {
   "cell_type": "markdown",
   "metadata": {},
   "source": [
    "Instantiate a coverage object.\n",
    "By defaut the `TA-Office.ini` layout is loaded.\n",
    "\n",
    "The coverage information is placed in the **coverage.ini** file in the project directory.\n",
    "\n",
    "Below is an example such a configuration file. "
   ]
  },
  {
   "cell_type": "code",
   "execution_count": 3,
   "metadata": {
    "collapsed": false
   },
   "outputs": [
    {
     "name": "stdout",
     "output_type": "stream",
     "text": [
      "[grid]\r\n",
      "nx = 40\r\n",
      "ny = 20\r\n",
      "boundary = [20,0,30,20]\r\n",
      "mode = full ; file, zone , full \r\n",
      "file = 'points.ini'\r\n",
      "\r\n",
      "[layout]\r\n",
      "filename = TA-Office.ini ; 0 40 0 15\r\n",
      ";filename = W2PTIN.ini\r\n",
      ";filename = Lstruc.str\r\n",
      "\r\n",
      "[ap]\r\n",
      "0 = {'name':'room1','wstd':'ieee80211b','p':(1,12,1.2),'PtdBm':0,'chan':[11],'on':True} \r\n",
      "1 = {'name':'room2','wstd':'ieee80211b','p':(10,2,1.2),'PtdBm':0,'chan':[11],'on':True} \r\n",
      "2 = {'name':'room3','wstd':'ieee80211b','p':(20,1,1.2),'PtdBm':0,'chan':[11],'on':True} \r\n",
      "3 = {'name':'room4','wstd':'ieee80211b','p':(36.5,1.5,1.2),'PtdBm':0,'chan':[11],'on':True} \r\n",
      "4 = {'name':'room5','wstd':'ieee80211b','p':(25,12,1.2),'PtdBm':0,'chan':[11],'on':True} \r\n",
      "\r\n",
      "[rx]\r\n",
      "temperaturek = 300\r\n",
      "noisefactordb = 0 \r\n",
      "\r\n",
      "[show]\r\n",
      "show = True\r\n"
     ]
    }
   ],
   "source": [
    "!cat $BASENAME/ini/coverage.ini"
   ]
  },
  {
   "cell_type": "markdown",
   "metadata": {},
   "source": [
    "The ini file contains 5 sections. \n",
    "\n",
    "+ [grid] section \n",
    "\n",
    "    This section precises the size of the grid. By default the grid is placed over the whole region of the Layout. \n",
    "    A selected region can also be defined whith the `boundary` list\n",
    "\n",
    "+ [layout] section \n",
    "\n",
    "    The name of the layout file (filename = ) \n",
    "    \n",
    "+ [ap] section \n",
    "    \n",
    "       A dictionnary of access points precising the standard, the used channel, the emitted power and the position \n",
    "       of the access point.\n",
    "       \n",
    "+ [show] section       \n",
    "             "
   ]
  },
  {
   "cell_type": "code",
   "execution_count": 4,
   "metadata": {
    "collapsed": false
   },
   "outputs": [],
   "source": [
    "# Create a Coverage object from coverag.ini file\n",
    "C = Coverage('coverage.ini')"
   ]
  },
  {
   "cell_type": "markdown",
   "metadata": {},
   "source": [
    "`C` has a dictionnary `dap` (dictionnary of access points) which gathers information about each access points of the scene."
   ]
  },
  {
   "cell_type": "code",
   "execution_count": 5,
   "metadata": {
    "collapsed": false
   },
   "outputs": [
    {
     "data": {
      "text/plain": [
       "name : room2\n",
       "p : (10, 2, 1.2)\n",
       "PtdBm : 0\n",
       "channels  : [11]   2.462 : [2.451,2.473]\n",
       "sensdBm : -94\n",
       "nant : 1\n",
       "On : True\n"
      ]
     },
     "execution_count": 5,
     "metadata": {},
     "output_type": "execute_result"
    }
   ],
   "source": [
    "C.dap[1]"
   ]
  },
  {
   "cell_type": "markdown",
   "metadata": {},
   "source": [
    "The coverage object has a `__repr__` method which summarizes different parameters of the current coverage object"
   ]
  },
  {
   "cell_type": "code",
   "execution_count": null,
   "metadata": {
    "collapsed": false
   },
   "outputs": [
    {
     "data": {
      "text/plain": [
       "Layout file : TA-Office.ini\n",
       "\n",
       "-----list of Access Points ------\n",
       "name : room1\n",
       "p : (1, 12, 1.2)\n",
       "PtdBm : 0\n",
       "channels  : [11]   2.462 : [2.451,2.473]\n",
       "sensdBm : -94\n",
       "nant : 1\n",
       "On : True\n",
       "\n",
       "name : room2\n",
       "p : (10, 2, 1.2)\n",
       "PtdBm : 0\n",
       "channels  : [11]   2.462 : [2.451,2.473]\n",
       "sensdBm : -94\n",
       "nant : 1\n",
       "On : True\n",
       "\n",
       "name : room3\n",
       "p : (20, 1, 1.2)\n",
       "PtdBm : 0\n",
       "channels  : [11]   2.462 : [2.451,2.473]\n",
       "sensdBm : -94\n",
       "nant : 1\n",
       "On : True\n",
       "\n",
       "name : room4\n",
       "p : (36.5, 1.5, 1.2)\n",
       "PtdBm : 0\n",
       "channels  : [11]   2.462 : [2.451,2.473]\n",
       "sensdBm : -94\n",
       "nant : 1\n",
       "On : True\n",
       "\n",
       "name : room5\n",
       "p : (25, 12, 1.2)\n",
       "PtdBm : 0\n",
       "channels  : [11]   2.462 : [2.451,2.473]\n",
       "sensdBm : -94\n",
       "nant : 1\n",
       "On : True\n",
       "\n",
       "-----Rx------\n",
       "temperature (K) : 300\n",
       "noisefactor (dB) : 0\n",
       "\n",
       "--- Grid ----\n",
       "mode : full\n",
       "nx : 40\n",
       "ny : 20"
      ]
     },
     "execution_count": 6,
     "metadata": {},
     "output_type": "execute_result"
    }
   ],
   "source": [
    "C"
   ]
  },
  {
   "cell_type": "markdown",
   "metadata": {},
   "source": [
    "Then, the coverage calculation is launched by calling the `cover()` method"
   ]
  },
  {
   "cell_type": "code",
   "execution_count": null,
   "metadata": {
    "collapsed": false
   },
   "outputs": [],
   "source": [
    "tic = time.time()\n",
    "C.cover()\n",
    "toc = time.time()\n",
    "print \"Execution time : %2.3f \" % (toc-tic) "
   ]
  },
  {
   "cell_type": "markdown",
   "metadata": {},
   "source": [
    "Let display the current Layout with hidding nodes. "
   ]
  },
  {
   "cell_type": "code",
   "execution_count": null,
   "metadata": {
    "collapsed": false
   },
   "outputs": [],
   "source": [
    "from matplotlib.pyplot import *\n",
    "%matplotlib inline\n",
    "fig=figure(figsize=(10,5))\n",
    "C.L.display['nodes']=False\n",
    "C.L.display['ednodes']=False\n",
    "f,a = C.show(fig=fig)"
   ]
  },
  {
   "cell_type": "markdown",
   "metadata": {},
   "source": [
    "The shadowing map coverage results can be displayed by invoquing various functions."
   ]
  },
  {
   "cell_type": "code",
   "execution_count": null,
   "metadata": {
    "collapsed": false
   },
   "outputs": [],
   "source": [
    "fig=figure(figsize=(10,5))\n",
    "f,a=C.show(fig=fig,typ='pr')"
   ]
  },
  {
   "cell_type": "code",
   "execution_count": null,
   "metadata": {
    "collapsed": false
   },
   "outputs": [],
   "source": [
    "fig=figure(figsize=(10,5))\n",
    "f,a=C.show(fig=fig,typ='pr',f=4)"
   ]
  },
  {
   "cell_type": "code",
   "execution_count": null,
   "metadata": {
    "collapsed": false
   },
   "outputs": [],
   "source": [
    "fig=figure(figsize=(10,5))\n",
    "f,a=C.show(fig=fig,typ='pr',f=10)"
   ]
  },
  {
   "cell_type": "code",
   "execution_count": null,
   "metadata": {
    "collapsed": false
   },
   "outputs": [],
   "source": [
    "fig=figure(figsize=(10,5))\n",
    "f,a=C.show(fig=fig,typ='best',f=1)"
   ]
  },
  {
   "cell_type": "code",
   "execution_count": null,
   "metadata": {
    "collapsed": false
   },
   "outputs": [],
   "source": [
    "fig=figure(figsize=(10,5))\n",
    "f,a=C.show(fig=fig,typ='best',f=10)"
   ]
  },
  {
   "cell_type": "code",
   "execution_count": null,
   "metadata": {
    "collapsed": false
   },
   "outputs": [],
   "source": [
    "fig=figure(figsize=(10,5))\n",
    "C.show(fig=fig,f=5,typ='sinr')"
   ]
  },
  {
   "cell_type": "markdown",
   "metadata": {},
   "source": [
    "As you have noticed the calculation has been done for all the center frequencies of the selected standard.\n",
    "This is done in prevision of further channel optimizations."
   ]
  },
  {
   "cell_type": "markdown",
   "metadata": {},
   "source": [
    "Let's consider an other standard"
   ]
  },
  {
   "cell_type": "code",
   "execution_count": null,
   "metadata": {
    "collapsed": false
   },
   "outputs": [],
   "source": [
    "C2 = Coverage('coverage2.ini')\n",
    "C2.cover()"
   ]
  },
  {
   "cell_type": "code",
   "execution_count": null,
   "metadata": {
    "collapsed": false
   },
   "outputs": [],
   "source": [
    "fig=figure(figsize=(10,5))\n",
    "C2.show(ftyp='pr')"
   ]
  },
  {
   "cell_type": "code",
   "execution_count": null,
   "metadata": {
    "collapsed": false
   },
   "outputs": [],
   "source": [
    "C.snro.shape"
   ]
  },
  {
   "cell_type": "code",
   "execution_count": null,
   "metadata": {
    "collapsed": false
   },
   "outputs": [],
   "source": [
    "fig=figure(figsize=(10,5))\n",
    "C.show(fig=fig,f=5,typ='capacity',dB=False)"
   ]
  },
  {
   "cell_type": "markdown",
   "metadata": {},
   "source": [
    "All simulated quantities are stored in linear scale."
   ]
  },
  {
   "cell_type": "code",
   "execution_count": null,
   "metadata": {
    "collapsed": false
   },
   "outputs": [],
   "source": [
    "C2.Lwo[0,0,0]"
   ]
  },
  {
   "cell_type": "code",
   "execution_count": null,
   "metadata": {
    "collapsed": false
   },
   "outputs": [],
   "source": [
    "C2.freespace[0,0,0]"
   ]
  }
 ],
 "metadata": {
  "kernelspec": {
   "display_name": "Python 2",
   "language": "python",
   "name": "python2"
  },
  "language_info": {
   "codemirror_mode": {
    "name": "ipython",
    "version": 2
   },
   "file_extension": ".py",
   "mimetype": "text/x-python",
   "name": "python",
   "nbconvert_exporter": "python",
   "pygments_lexer": "ipython2",
   "version": "2.7.9"
  }
 },
 "nbformat": 4,
 "nbformat_minor": 0
}
