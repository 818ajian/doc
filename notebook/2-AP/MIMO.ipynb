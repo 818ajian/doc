# Simulation of an Indoor MIMO channel

This notebook illustrtates a simple ray tracing simulation with diffecent material properties for a single segment separating 2 rooms which contains multi-subsegments. The noteboook illustrates in details the whole steps.

```python
>>> from pylayers.simul.link import *
>>> from pylayers.antprop.rays import *
>>> from pylayers.antprop.aarray import *
>>> from pylayers.gis.layout import *
>>> from pylayers.antprop.signature import *
>>> import pylayers.signal.bsignal as bs
>>> import pylayers.signal.waveform as wvf
>>> from pylayers.simul.simulem import *
>>> import matplotlib.pyplot as plt
>>> %matplotlib inline
```

Let start by loading a simple layout with 2 single rooms. The multi subsegment appears in the middle with the red vertical lines. Each subsegment is materialized by a  segment.

```python
>>> L=Layout('defstr.ini')
>>> f,a=L.showG('s',subseg=True,figsize=(10,10))
```

The studied configuration is composed of a simple 2 rooms building separated by a subsegment which has a multi subsegment attribute. The attribute of the subsegment can be changed  with the method [`chgmss`](http://pylayers.github.io/pylayers/modules/generated/pylayers.gis.layout.Layout.chgmss.html) (change multisubsegment). In the example WOOD in the lower part then 10cm of AIR then wood again until the ceiling.

```python
>>> L.chgmss(1,ss_name=['WOOD','AIR','WOOD'],ss_z =[(0.0,2.7),(2.7,2.8),(2.8,3)],ss_offset=[0,0,0])
```

As the Layout structure has been modified it is required to rebuild the structure.

```python
>>> L.build()
>>> L.save()
structure saved in  defstr.str2
structure saved in  defstr.ini
```

The $\mathcal{G}_s$ graph dictionnary has the following structure

```python
>>> L.Gs.node
{-8: {},
 -7: {},
 -6: {},
 -5: {},
 -4: {},
 -3: {},
 -2: {},
 -1: {},
 1: {'connect': [-8, -7],
  'name': 'PARTITION',
  'ncycles': [1, 2],
  'norm': array([-0.999982  , -0.00599989,  0.        ]),
  'offset': 0,
  'ss_name': ['WOOD', 'AIR', 'WOOD'],
  'ss_offset': [0, 0, 0],
  'ss_z': [(0.0, 2.7), (2.7, 2.8), (2.8, 3)],
  'transition': True,
  'z': (0.0, 3.0)},
 2: {'connect': [-8, -2],
  'name': 'WALL',
  'ncycles': [1, 2],
  'norm': array([ 0.99997778,  0.00666652,  0.        ]),
  'offset': 0,
  'transition': False,
  'z': (0.0, 3.0)},
 3: {'connect': [-7, -5],
  'name': 'WALL',
  'ncycles': [1, 2],
  'norm': array([-0.99997775, -0.00667097,  0.        ]),
  'offset': 0,
  'transition': False,
  'z': (0.0, 3.0)},
 4: {'connect': [-6, -1],
  'name': 'WALL',
  'ncycles': [2, 0],
  'norm': array([ 0.99997888,  0.00649986,  0.        ]),
  'offset': 0,
  'transition': False,
  'z': (0.0, 3.0)},
 5: {'connect': [-6, -5],
  'name': 'WALL',
  'ncycles': [2, 0],
  'norm': array([-0.00619988,  0.99998078,  0.        ]),
  'offset': 0,
  'transition': False,
  'z': (0.0, 3.0)},
 6: {'connect': [-5, -4],
  'name': 'WALL',
  'ncycles': [1, 0],
  'norm': array([-0.00639987,  0.99997952,  0.        ]),
  'offset': 0,
  'transition': False,
  'z': (0.0, 3.0)},
 7: {'connect': [-4, -3],
  'name': 'WALL',
  'ncycles': [1, 0],
  'norm': array([ 0.99997887,  0.00650149,  0.        ]),
  'offset': 0,
  'transition': False,
  'z': (0.0, 3.0)},
 8: {'connect': [-3, -2],
  'name': 'WALL',
  'ncycles': [1, 0],
  'norm': array([ 0.00639987, -0.99997952,  0.        ]),
  'offset': 0,
  'transition': False,
  'z': (0.0, 3.0)},
 9: {'connect': [-1, -2],
  'name': 'WALL',
  'ncycles': [2, 0],
  'norm': array([-0.00639987,  0.99997952,  0.        ]),
  'offset': 10,
  'transition': False,
  'z': (0.0, 3.0)}}
```

We define now two points which are the termination of a radio link. In our case it will corresponds to the origin of two antenna arrays.

```python
>>> tx=np.array([759,1114,1.5])
>>> rx=np.array([767,1114,1.5])
```

```python
>>> L.chgmss(1,ss_name=['WOOD','AIR','WOOD'],ss_z =[(0.0,2.7),(2.7,2.8),(2.8,3)],ss_offset=[0,0,0])
>>> L.save()
>>> fGHz=np.linspace(1,11,100)
structure saved in  defstr.str2
structure saved in  defstr.ini
```

In this example we will condider a linear antenna array of 4 element for the transmitting array and a linear antenna array of 8 elements for the transmitting.

```python
>>> Aat = AntArray(fGHz=np.linspace(1.8,2.2,201),typant='Omni',u=0)
>>> Aar = AntArray(fGHz=np.linspace(1.8,2.2,201),typant='Omni',N=[4,1,1],u=0)
>>> Aat.eval()
>>> Aar.eval()
```

```python
>>> #Aat.plotG(plan='phi',angdeg=90,fGHz=[1.8,2,2.2])
... #Aar.plotG(plan='phi',angdeg=90,fGHz=[1.8,2,2.2])
```

```python
>>> plt.plot(np.abs(Aar.Ft[45,:,0]),'r')
>>> plt.plot(np.abs(Aar.Ft[45,:,100]),'b')
>>> plt.plot(np.abs(Aar.Ft[45,:,200]),'g')
[<matplotlib.lines.Line2D at 0x7f5be2117650>]
```

```python
>>> plt.plot(np.abs(Aar.Ft[:,0,0]),'r')
>>> plt.plot(np.abs(Aar.Ft[:,0,100]),'b')
>>> plt.plot(np.abs(Aar.Ft[:,0,200]),'g')
>>> plt.plot(np.abs(Aat.Ft[:,0,0]),'r.')
>>> plt.plot(np.abs(Aat.Ft[:,0,100]),'b.')
>>> plt.plot(np.abs(Aat.Ft[:,0,200]),'g.')
[<matplotlib.lines.Line2D at 0x7f5bebae7350>]
```

```python
>>> Aa = Antenna('Omni',fGHz=fGHz)
>>> Ab = Antenna('Omni',fGHz=fGHz)
>>> Lk = DLink(L=L,a=tx,b=rx,Aa=Aar,Ab=Aat,fGHz=np.linspace(1.8,2.2,201))
```

A link is the set of a layout and 2 termination points.

```python
>>> f,a=Lk.show()
```

On the figure above, we can see the Tx and Rx each placed in a different room appart from a wall with a subsegement placed in the middle.
Then for evaluating the radio link, simply type:

```python
>>> ak,tauk=Lk.eval(force=True,a=tx,b=rx,applywav=False)
checkh5
Start Signatures
algo 7
Signatures'> from 2_1_3 saved
Stop signature 0.0503089427948
Start Rays
Rays'> from 3_3_4 saved
Stop rays 0.570500135422
Ctilde'> from 3_4_3 saved
Tchannel'> from 3_4_3_0_0_3_3 saved
```

At that point the channel has been evaluated and all the data stored in an `hdf5` file

```python
>>> Lk.H
freq : 1.8 2.2 201
shape  : (145, 8, 4, 201)
tau (min, max) : 26.6666666667 95.4531715584
dist :8.0 28.6359514675
Friis factor -j c/(4 pi f) has been applied
 calibrated : No
 windowed : No
```

```python
>>> HH=np.sum(Lk.H.y,axis=0)
```

```python
>>> HH.shape
(8, 4, 201)
```

```python
>>> for t in range(4):
...     for r in range(8):
...         plt.plot(20*np.log10(np.abs(HH[r,t,:])))
```

```python

```
