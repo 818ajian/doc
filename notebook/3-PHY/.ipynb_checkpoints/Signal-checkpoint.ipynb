{
 "cells": [
  {
   "cell_type": "code",
   "execution_count": 2,
   "metadata": {
    "collapsed": false
   },
   "outputs": [],
   "source": [
    "%pylab inline"
   ]
  },
  {
   "cell_type": "markdown",
   "metadata": {},
   "source": [
    "## Synthesis of Ultra Wide Band Waveforms"
   ]
  },
  {
   "cell_type": "markdown",
   "metadata": {},
   "source": [
    "Once the propagation channel has been evaluated. This is done in the `pylayers.antprop.channel` module. \n",
    "The received signal is evaluated in applying a convolution product of each ray tranfer function with a specific\n",
    "IR-UWB waveform. The necessary modules are \n",
    "\n",
    "+ `pylayers.signal.bsignal`.\n",
    "+ `pylayers.signal.waveform`\n",
    "+ `pylayers.signal.channel`\n",
    "\n",
    "The module `pylayers.simul.simulem` is for definition of electromagnetic simulation.  "
   ]
  },
  {
   "cell_type": "code",
   "execution_count": 3,
   "metadata": {
    "collapsed": true
   },
   "outputs": [],
   "source": [
    "from pylayers.signal.bsignal import *\n",
    "from pylayers.signal.waveform import *\n",
    "from pylayers.antprop.channel import *\n",
    "from pylayers.simul.simulem import *"
   ]
  },
  {
   "cell_type": "markdown",
   "metadata": {},
   "source": [
    "### Generation of an Impulse of normalized energy \n",
    "\n",
    "One possible manner to define an energy normalized short UWB impulse is as follows using  `bsignal.EnImpulse` function. \n",
    "\n",
    "The default waveform is a gaussian windowing of a sine wave of frequency $f_c$. The normalization term depends on the exponential scaling factor $\\tau$. \n",
    "\n",
    "$p(t)= \\frac{\\sqrt{2\\sqrt{2}}}{\\tau\\sqrt{\\pi}} \\cos(2\\pi f_c t) e^{-(\\frac{t}{\\tau})^2}$\n",
    "\n",
    "$\\tau = \\frac{2}{B\\pi}\\sqrt{\\frac{\\gamma_{dB}\\ln{10}}{20}}$\n",
    "\n",
    "where $B$ is the desired bandwidth defined at $\\gamma_{dB}$ below the spectrum maximum and $f_c$ is the central frequency of the pulse.\n",
    "\n",
    "\n"
   ]
  },
  {
   "cell_type": "code",
   "execution_count": 4,
   "metadata": {
    "collapsed": true
   },
   "outputs": [],
   "source": [
    "fc     = 4 \n",
    "band   = 2\n",
    "thresh = 10\n",
    "fe     = 100 \n",
    "ip     = EnImpulse([],fc,band,thresh,fe)"
   ]
  },
  {
   "cell_type": "code",
   "execution_count": 5,
   "metadata": {
    "collapsed": false
   },
   "outputs": [],
   "source": [
    "ip.info()"
   ]
  },
  {
   "cell_type": "markdown",
   "metadata": {},
   "source": [
    "## Verification of energy normalization in both domains"
   ]
  },
  {
   "cell_type": "code",
   "execution_count": 6,
   "metadata": {
    "collapsed": false
   },
   "outputs": [],
   "source": [
    "E1= sum(ip.y*ip.y)*ip.dx()\n",
    "print \"Integration in time\",E1"
   ]
  },
  {
   "cell_type": "code",
   "execution_count": 7,
   "metadata": {
    "collapsed": false
   },
   "outputs": [],
   "source": [
    "P = ip.esd()\n",
    "E2 = sum(P.y)*P.dx()\n",
    "print \"Integration in frequency domain \",E2"
   ]
  },
  {
   "cell_type": "markdown",
   "metadata": {},
   "source": [
    "## Calculation of UWB channel impulse response"
   ]
  },
  {
   "cell_type": "markdown",
   "metadata": {},
   "source": [
    "We choose to load a simple floor plan. "
   ]
  },
  {
   "cell_type": "code",
   "execution_count": 8,
   "metadata": {
    "collapsed": false
   },
   "outputs": [],
   "source": [
    "S = Simul()\n",
    "S.L = Layout('defstr3.ini')"
   ]
  },
  {
   "cell_type": "markdown",
   "metadata": {},
   "source": [
    "A simulation object has an `info` method providing a summary of simulation informations."
   ]
  },
  {
   "cell_type": "code",
   "execution_count": 9,
   "metadata": {
    "collapsed": false
   },
   "outputs": [],
   "source": [
    "st = S.wav.st\n",
    "sf = S.wav.sf\n",
    "S.wav.info()"
   ]
  },
  {
   "cell_type": "markdown",
   "metadata": {},
   "source": [
    "The waveform associated with the simulation object is "
   ]
  },
  {
   "cell_type": "code",
   "execution_count": 10,
   "metadata": {
    "collapsed": false
   },
   "outputs": [],
   "source": [
    "S.wav"
   ]
  },
  {
   "cell_type": "code",
   "execution_count": 11,
   "metadata": {
    "collapsed": false
   },
   "outputs": [],
   "source": [
    "S.wav.show()"
   ]
  },
  {
   "cell_type": "markdown",
   "metadata": {},
   "source": [
    "Above the waveform is a generic UWB waveform. The interested user can add easyly any other mathematical expression of UWB waveform for investigation on pulse waveform modulation for example. The waveform can also comes from measurement. For now there are two version of this waveform which has been used during the M1 measurement campaign. One is not compensated `W1compensate` for an extra short delay which can introduse a bias when interpretating the observed delay in terms of distance. The non compensated version is `W1offset` from the time origin about 0.7 ns.\n",
    "\n",
    "The waveform class should grow for incorporating more waveforms, especially waveforms compliants with the current IEEE 802.15.4a and IEEE 802.15.6 standards. "
   ]
  },
  {
   "cell_type": "code",
   "execution_count": 12,
   "metadata": {
    "collapsed": false
   },
   "outputs": [],
   "source": [
    "wavmeasured = Waveform(typ='W1compensate')\n",
    "wavmeasured.show()"
   ]
  },
  {
   "cell_type": "code",
   "execution_count": 13,
   "metadata": {
    "collapsed": false
   },
   "outputs": [],
   "source": [
    "wavmeasured = Waveform(typ='W1offset')\n",
    "wavmeasured.show()"
   ]
  },
  {
   "cell_type": "markdown",
   "metadata": {},
   "source": [
    "Here the time domain waveform is measured and the anticausal part of the signal is artificially set to 0.\n",
    "\n",
    "To handle properly the time domain wavefom in PyLayers, it is required to center the signal in the middle of the array.  The waveform has embedded in the object its frequency domain and time domain representation.  \n",
    "\n",
    "+ `st` member stands for signal in time domain\n",
    "+ `sf` member stands for signal in frequency domain"
   ]
  },
  {
   "cell_type": "code",
   "execution_count": 14,
   "metadata": {
    "collapsed": false
   },
   "outputs": [],
   "source": [
    "print type(S.wav.sf)\n",
    "print type(S.wav.st)"
   ]
  },
  {
   "cell_type": "markdown",
   "metadata": {},
   "source": [
    "+ `FUsignal` Frequency domain uniformly sampled base signal \n",
    "+ `TUsignal` Time domain uniformly sampled base signal"
   ]
  },
  {
   "cell_type": "markdown",
   "metadata": {},
   "source": [
    "## Construction of the propagation channel "
   ]
  },
  {
   "cell_type": "markdown",
   "metadata": {},
   "source": [
    "The following representation shows the spatial spreading of the propagation channel. \n",
    "On the left are scattered the intensity of rays wrt to angles of departure (in azimut and elevation). \n",
    "On the right is the intensity of rays wrt to angles of arrival. It misses the application between the 2\n",
    "planes as well as the delay dimension of the propagation channel."
   ]
  },
  {
   "cell_type": "code",
   "execution_count": 15,
   "metadata": {
    "collapsed": false
   },
   "outputs": [],
   "source": [
    "from pylayers.antprop.signature import *\n",
    "from pylayers.antprop.channel import *"
   ]
  },
  {
   "cell_type": "code",
   "execution_count": 16,
   "metadata": {
    "collapsed": false
   },
   "outputs": [],
   "source": [
    "S.L.build()"
   ]
  },
  {
   "cell_type": "code",
   "execution_count": 17,
   "metadata": {
    "collapsed": false
   },
   "outputs": [],
   "source": [
    "S.L"
   ]
  },
  {
   "cell_type": "code",
   "execution_count": 18,
   "metadata": {
    "collapsed": false
   },
   "outputs": [],
   "source": [
    "S.L.Gt.pos"
   ]
  },
  {
   "cell_type": "code",
   "execution_count": 19,
   "metadata": {
    "collapsed": false
   },
   "outputs": [],
   "source": [
    "tx=np.array([759,1114,1.0])\n",
    "rx=np.array([767,1114,1.5])\n",
    "ctx = S.L.pt2cy(tx)\n",
    "crx = S.L.pt2cy(rx)"
   ]
  },
  {
   "cell_type": "markdown",
   "metadata": {},
   "source": [
    "The sequence of command below :\n",
    "    \n",
    "+ initialize a signature between cycle ctx and cycle crx\n",
    "+ evaluates the signature with a given cutoff value\n",
    "+ calculates a set of 2D rays from signature and tx/rx coordinates\n",
    "+ calculates a set of 3D ray from 2D rays and layout and ceil height (default H=3m)\n",
    "+ calculates local basis and various geometric information out of the 3D ray and Layout \n",
    "+ fill and reorganize the interactions object with proper material chararcteristics"
   ]
  },
  {
   "cell_type": "code",
   "execution_count": 20,
   "metadata": {
    "collapsed": false
   },
   "outputs": [],
   "source": [
    "Si = Signatures(S.L,ctx,crx)\n",
    "Si.run5(cutoff=5)\n",
    "r2d = Si.rays(tx,rx)\n",
    "r3d = r2d.to3D(S.L)\n",
    "r3d.locbas(S.L)\n",
    "r3d.fillinter(S.L)"
   ]
  },
  {
   "cell_type": "markdown",
   "metadata": {},
   "source": [
    "Define a frequency base in GHz."
   ]
  },
  {
   "cell_type": "code",
   "execution_count": 21,
   "metadata": {
    "collapsed": false
   },
   "outputs": [],
   "source": [
    "fGHz = np.arange(2,10,0.01)"
   ]
  },
  {
   "cell_type": "markdown",
   "metadata": {},
   "source": [
    "Evaluate the propagation channel $\\tilde{\\mathbf{C}}$. Here the meaning of tilde is that the complex value of the channel do not include the phase term due to delay along the ray. "
   ]
  },
  {
   "cell_type": "code",
   "execution_count": 22,
   "metadata": {
    "collapsed": false
   },
   "outputs": [],
   "source": [
    "C = r3d.eval(fGHz) "
   ]
  },
  {
   "cell_type": "markdown",
   "metadata": {},
   "source": [
    "## Construction of the transmission channel"
   ]
  },
  {
   "cell_type": "markdown",
   "metadata": {},
   "source": [
    "The transmission channel is obtained from the combination of the propagation channel $\\tilde{\\mathbf{C}}$ and the vector antenna pattern at both side of the radio link. This operation is implemented in the `prop2tran` method of the `Ctilde` class.  "
   ]
  },
  {
   "cell_type": "code",
   "execution_count": 23,
   "metadata": {
    "collapsed": true
   },
   "outputs": [],
   "source": [
    "sc = C.prop2tran()"
   ]
  },
  {
   "cell_type": "markdown",
   "metadata": {},
   "source": [
    "The transmission channel is obtained by applying a vector radiation pattern using an antenna file.\n",
    "\n",
    "In the presented case, it comes from a real antenna which has been used during the **FP7 project WHERE1** measurement campaign \n",
    "M1."
   ]
  },
  {
   "cell_type": "code",
   "execution_count": 24,
   "metadata": {
    "collapsed": false
   },
   "outputs": [],
   "source": [
    "sc"
   ]
  },
  {
   "cell_type": "markdown",
   "metadata": {},
   "source": [
    "The antenna radiation pattern is stored in a very compact way thanks to Vector Spherical Harmonics decomposition.\n",
    "The following gives information about the content of the antenna object."
   ]
  },
  {
   "cell_type": "code",
   "execution_count": 25,
   "metadata": {
    "collapsed": false
   },
   "outputs": [],
   "source": [
    "S.tx.A.info()"
   ]
  },
  {
   "cell_type": "markdown",
   "metadata": {},
   "source": [
    "The figure below plot on a same graph all the tansfer function in modulus and phase of the ray transfer function."
   ]
  },
  {
   "cell_type": "markdown",
   "metadata": {},
   "source": [
    "If a realistic antenna is applied it gives "
   ]
  },
  {
   "cell_type": "code",
   "execution_count": 26,
   "metadata": {
    "collapsed": false
   },
   "outputs": [],
   "source": [
    "sca = C.prop2tran(S.tx.A,S.rx.A)"
   ]
  },
  {
   "cell_type": "markdown",
   "metadata": {},
   "source": [
    "## Calculate UWB Channel Impulse Response "
   ]
  },
  {
   "cell_type": "markdown",
   "metadata": {},
   "source": [
    "Once the transmission channel has been evaluated on can convolved the waveform with the channel impulse response to get the received waveform."
   ]
  },
  {
   "cell_type": "code",
   "execution_count": 27,
   "metadata": {
    "collapsed": true
   },
   "outputs": [],
   "source": [
    "r = sca.applywavB(S.wav.sfg)"
   ]
  },
  {
   "cell_type": "code",
   "execution_count": 28,
   "metadata": {
    "collapsed": false
   },
   "outputs": [],
   "source": [
    "r.y"
   ]
  },
  {
   "cell_type": "code",
   "execution_count": 29,
   "metadata": {
    "collapsed": false
   },
   "outputs": [],
   "source": [
    "fig,ax = r.plot(typ=['l20'])\n",
    "plt.axis([15,90,-120,-60])\n",
    "plt.title(u'Received Waveform $r(t)$')"
   ]
  },
  {
   "cell_type": "code",
   "execution_count": 30,
   "metadata": {
    "collapsed": false
   },
   "outputs": [],
   "source": [
    "r.plot(typ=['v'])\n",
    "#plt.axis([15,60,-0.3,0.3])\n",
    "plt.title(u'Received Waveform $r(t)$')"
   ]
  },
  {
   "cell_type": "markdown",
   "metadata": {},
   "source": [
    "## Hermitian symetry enforcment "
   ]
  },
  {
   "cell_type": "markdown",
   "metadata": {},
   "source": [
    "If the number of point for the transmission channel and the waveform were the same the mathematical operation is an Hadamrd-Shur product between \n",
    "$\\mathbf{Y}$ and $\\mathbf{W}$. \n",
    "\n",
    "$\\mathbf{Y} = \\mathbf{S} \\odot \\mathbf{W}$\n",
    "\n",
    "In practice this is what is done after a resampling of the time base with a reinterpolated  time step. "
   ]
  },
  {
   "cell_type": "markdown",
   "metadata": {},
   "source": [
    "The process which consists in going from time domain to frequency domain is delegated to a specialized class `pylayers.signal.bsignal.Bsignal` which maintains the proper \n",
    "binding between signal samples and their indexation either in time or in frequency domain."
   ]
  },
  {
   "cell_type": "code",
   "execution_count": 31,
   "metadata": {
    "collapsed": false
   },
   "outputs": [],
   "source": [
    "wgam = S.wav.sfg\n",
    "Y    = sc.apply(wgam)\n",
    "tau  = Y.taud\n",
    "dod = Y.dod\n",
    "doa = Y.doa"
   ]
  },
  {
   "cell_type": "markdown",
   "metadata": {},
   "source": [
    "The transmission channel has a member data which is the time delay of each path in nano seconds. Notice that by default those delay are not sorted. "
   ]
  },
  {
   "cell_type": "code",
   "execution_count": 32,
   "metadata": {
    "collapsed": false
   },
   "outputs": [],
   "source": [
    "print 'tau =', tau[0:20]"
   ]
  },
  {
   "cell_type": "code",
   "execution_count": 33,
   "metadata": {
    "collapsed": false
   },
   "outputs": [],
   "source": [
    "h = plt.hist(tau,20)"
   ]
  },
  {
   "cell_type": "markdown",
   "metadata": {},
   "source": [
    "Direction of arrival $(\\theta_r,\\phi_r)$ in radians"
   ]
  },
  {
   "cell_type": "code",
   "execution_count": 34,
   "metadata": {
    "collapsed": false
   },
   "outputs": [],
   "source": [
    "print \"doa = \", doa[1:10,:]"
   ]
  },
  {
   "cell_type": "code",
   "execution_count": 35,
   "metadata": {
    "collapsed": false
   },
   "outputs": [],
   "source": [
    "plt.subplot(221)\n",
    "ht = plt.hist(doa[:,0],20)\n",
    "plt.xlabel(u'$\\\\theta_r$')\n",
    "plt.ylabel('#')\n",
    "plt.subplot(222)\n",
    "hp = plt.hist(doa[:,1],20)\n",
    "plt.xlabel(u'$\\phi_r$')\n",
    "plt.ylabel('#')\n",
    "plt.subplot(223)\n",
    "ht = plt.hist(dod[:,0],20)\n",
    "plt.xlabel(u'$\\\\theta_t$')\n",
    "plt.ylabel('#')\n",
    "plt.subplot(224)\n",
    "hp = plt.hist(dod[:,1],20)\n",
    "plt.xlabel(u'$\\phi_t$')\n",
    "plt.ylabel('#')\n",
    "plt.tight_layout()"
   ]
  }
 ],
 "metadata": {
  "kernelspec": {
   "display_name": "Python 2",
   "language": "python",
   "name": "python2"
  },
  "language_info": {
   "codemirror_mode": {
    "name": "ipython",
    "version": 2
   },
   "file_extension": ".py",
   "mimetype": "text/x-python",
   "name": "python",
   "nbconvert_exporter": "python",
   "pygments_lexer": "ipython2",
   "version": "2.7.9"
  }
 },
 "nbformat": 4,
 "nbformat_minor": 0
}
