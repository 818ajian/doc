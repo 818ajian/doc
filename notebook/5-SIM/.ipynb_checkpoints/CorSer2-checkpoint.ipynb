{
 "cells": [
  {
   "cell_type": "markdown",
   "metadata": {},
   "source": [
    "## Table Of Content"
   ]
  },
  {
   "cell_type": "markdown",
   "metadata": {},
   "source": [
    "1. [CORMORAN Measurement Campaign](#CORMORAN)\n",
    "    1. [Motivation for creating a specific tool](#Motivation)\n",
    "    2. [Prerequisite installations](#pre)\n",
    "1. [The CorSer Class](#CorSer)\n",
    "    1. [Load Serie](#Load)\n",
    "    2. [Get information on the Series](#getinfo)\n",
    "    3. [Available Data Variable](#Available Data)\n",
    "        1. [Radio DataFrames](#Radio df)\n",
    "        1. [Non Radio DataFrames](#Non Radio df)\n",
    "        3. [Involved Devices](#device)\n",
    "    4. [Acessing the Data](#access data)\n",
    "        1. [Get Device Position](#getdevp)\n",
    "        2. [Get Link Value](#getlink)\n",
    "        3. [Get Link Distance](#getlinkd)\n",
    "    5. [Visualizing the data](#vizu)\n",
    "        1. [Native Pandas Vizualization](#pandas)\n",
    "        2. [Plot Method](#plot)\n",
    "        3. [Plot Visibility Method](#plotvisi)\n",
    "        4. [Plot Mobility Method](#plotmob)\n",
    "        5. [3D plot](#3Dplot)\n",
    "        6. [3D plot interactively](#3Dploti)\n",
    "        7. [3D Interrative  Visibility](#visii)"
   ]
  },
  {
   "cell_type": "code",
   "execution_count": null,
   "metadata": {
    "collapsed": false
   },
   "outputs": [
    {
     "name": "stderr",
     "output_type": "stream",
     "text": [
      "WARNING:traits.has_traits:DEPRECATED: traits.has_traits.wrapped_class, 'the 'implements' class advisor has been deprecated. Use the 'provides' class decorator.\n"
     ]
    }
   ],
   "source": [
    "%matplotlib inline\n",
    "import  pylayers.util.mayautil as myu"
   ]
  },
  {
   "cell_type": "markdown",
   "metadata": {},
   "source": [
    "# CORMORAN Measurement Campaign <a id='CORMORAN'></a>"
   ]
  },
  {
   "cell_type": "markdown",
   "metadata": {},
   "source": [
    "The CORMORAN measurement campaign is the first known campaign in the WBAN context gathering :"
   ]
  },
  {
   "cell_type": "markdown",
   "metadata": {},
   "source": [
    "+ 3 differents radio technologies (HiKoB, CEA plateform and Beespoon phone)\n",
    "+ Up to 24 radio devices equiped on a single body\n",
    "+ A precise capture of the radio device and body movement using a Vicon motion capture (MOCAP) system.\n",
    "+ A perfect knowledge of the capture environement\n",
    "+ 58 Series with capture or group navigation scenarios"
   ]
  },
  {
   "cell_type": "markdown",
   "metadata": {},
   "source": [
    "One of the main characteristics of this measurement campaign is the use of a precise motion capture system which allows to get a ground truth position of any radio device which make the radio observable values open to insightful interpretation."
   ]
  },
  {
   "cell_type": "markdown",
   "metadata": {},
   "source": [
    "## Motivation for creating a specific tool <a id='Motivation'></a>"
   ]
  },
  {
   "cell_type": "markdown",
   "metadata": {},
   "source": [
    "In order to exploit the CORMORAN measurement campaign, a dedicated tool has\n",
    "been envisaged. Regarding that one aim of the CORMORAN project\n",
    "(http://pylayers.github.io/pylayers/cormoran.html) is to provide a simulation\n",
    "plateform from the Channel to the MAC Layer, the tool natturally takes place\n",
    "inside the PyLayers plateform."
   ]
  },
  {
   "cell_type": "markdown",
   "metadata": {},
   "source": [
    "This specific tool creation has been motivated by the intrinsec complexity of the the measurement campaign.\n",
    "First, no existing tool are able to exploit simultaneously the radio and MOCAP information from the measures."
   ]
  },
  {
   "cell_type": "markdown",
   "metadata": {},
   "source": [
    "The co-existence of 3 different radio technologies implies 3 different file formats which have to be interpreted and combined together to be exploitable. However, the motion capture, and the 3 differents radio acces technologies (RAT) operating at different sample rate, which leads to manipulating 4 different time basis. As well, no automatic start-synchronization mechanism was availble between the different technologies which leads to a non systematic time shift between the different basis."
   ]
  },
  {
   "cell_type": "markdown",
   "metadata": {},
   "source": [
    "Finally the aim of a measurement campaign is to easily provide valuable and exploitable information for the project members and more generally by people in the research community. The goal of such a tool is to help and simplify dissemination."
   ]
  },
  {
   "cell_type": "markdown",
   "metadata": {},
   "source": [
    "## Prerequisite Installations <a id='pre'></a>"
   ]
  },
  {
   "cell_type": "markdown",
   "metadata": {},
   "source": [
    "\n",
    "\n",
    "Before starting using this tool, some requirements have to be satisfied."
   ]
  },
  {
   "cell_type": "markdown",
   "metadata": {},
   "source": [
    "1. The open source platform PyLayers ( http://www.pylayers.org ) has to be installed following the installation notes here: https://github.com/pylayers/pylayers/blob/master/INSTALL.txt"
   ]
  },
  {
   "cell_type": "markdown",
   "metadata": {},
   "source": [
    "2. The CORMORAN measurements have to be downloaded from the gitlab repository (URL PROVIDED SHORTLY)\n",
    "3. An environement variable $CORMORAN has to be set at the root of your CORMORAN measurements directory (help about setup of environement variables can be found in pylayers' INSTALL.txt"
   ]
  },
  {
   "cell_type": "markdown",
   "metadata": {},
   "source": [
    "Once those 3 steps are satisfied, the CORMORAN exploitation measure tool is ready to be used."
   ]
  },
  {
   "cell_type": "markdown",
   "metadata": {},
   "source": [
    "# The `CorSer` Class <a id='CorSer'></a>"
   ]
  },
  {
   "cell_type": "markdown",
   "metadata": {},
   "source": [
    "The exploitation of measures tool takes place as a specific class named CorSer (which stands for Cormoran Series).\n",
    "Once PyLayers has been installed, it is possible to directly access to the class by importing it."
   ]
  },
  {
   "cell_type": "code",
   "execution_count": null,
   "metadata": {
    "collapsed": false
   },
   "outputs": [],
   "source": [
    "from pylayers.measures.cormoran import *"
   ]
  },
  {
   "cell_type": "markdown",
   "metadata": {},
   "source": [
    "### <a id='getinfo'></a> Get information on the Series"
   ]
  },
  {
   "cell_type": "markdown",
   "metadata": {},
   "source": [
    "\n",
    "Before creating the CorSer object it is possible to consult the available measurements series using *cor_log()*. Then for each **serie** of a given **day** it is possible to get:"
   ]
  },
  {
   "cell_type": "markdown",
   "metadata": {},
   "source": [
    "+ The involved subject(s)\n",
    "+ The radio technology\n",
    "+ A short description of the serie"
   ]
  },
  {
   "cell_type": "code",
   "execution_count": null,
   "metadata": {
    "collapsed": false
   },
   "outputs": [],
   "source": [
    "cor_log()"
   ]
  },
  {
   "cell_type": "markdown",
   "metadata": {},
   "source": [
    "## <a id='Load'></a> Load Serie"
   ]
  },
  {
   "cell_type": "markdown",
   "metadata": {},
   "source": [
    "As an example, serie 6 from day 11 can be loaded using the following command:"
   ]
  },
  {
   "cell_type": "code",
   "execution_count": 2,
   "metadata": {
    "collapsed": false
   },
   "outputs": [
    {
     "ename": "NameError",
     "evalue": "name 'CorSer' is not defined",
     "output_type": "error",
     "traceback": [
      "\u001b[1;31m---------------------------------------------------------------------------\u001b[0m",
      "\u001b[1;31mNameError\u001b[0m                                 Traceback (most recent call last)",
      "\u001b[1;32m<ipython-input-2-6793bfc6e2f9>\u001b[0m in \u001b[0;36m<module>\u001b[1;34m()\u001b[0m\n\u001b[1;32m----> 1\u001b[1;33m \u001b[0mS\u001b[0m\u001b[1;33m=\u001b[0m\u001b[0mCorSer\u001b[0m\u001b[1;33m(\u001b[0m\u001b[0mserie\u001b[0m\u001b[1;33m=\u001b[0m\u001b[1;36m6\u001b[0m\u001b[1;33m,\u001b[0m\u001b[0mday\u001b[0m\u001b[1;33m=\u001b[0m\u001b[1;36m11\u001b[0m\u001b[1;33m)\u001b[0m\u001b[1;33m\u001b[0m\u001b[0m\n\u001b[0m",
      "\u001b[1;31mNameError\u001b[0m: name 'CorSer' is not defined"
     ]
    }
   ],
   "source": [
    "S=CorSer(serie=6,day=11)"
   ]
  },
  {
   "cell_type": "markdown",
   "metadata": {},
   "source": [
    "Once loaded information about the serie (date, type, ...) can be obtained just by calling the object itself:"
   ]
  },
  {
   "cell_type": "code",
   "execution_count": 1,
   "metadata": {
    "collapsed": false
   },
   "outputs": [
    {
     "ename": "NameError",
     "evalue": "name 'S' is not defined",
     "output_type": "error",
     "traceback": [
      "\u001b[1;31m---------------------------------------------------------------------------\u001b[0m",
      "\u001b[1;31mNameError\u001b[0m                                 Traceback (most recent call last)",
      "\u001b[1;32m<ipython-input-1-65db27307aa0>\u001b[0m in \u001b[0;36m<module>\u001b[1;34m()\u001b[0m\n\u001b[1;32m----> 1\u001b[1;33m \u001b[0mS\u001b[0m\u001b[1;33m\u001b[0m\u001b[0m\n\u001b[0m",
      "\u001b[1;31mNameError\u001b[0m: name 'S' is not defined"
     ]
    }
   ],
   "source": [
    "S"
   ]
  },
  {
   "cell_type": "markdown",
   "metadata": {},
   "source": [
    "## <a id='Available Data'></a> Available data"
   ]
  },
  {
   "cell_type": "markdown",
   "metadata": {},
   "source": [
    "### <a id='Radio df'></a> Radio DataFrames"
   ]
  },
  {
   "cell_type": "markdown",
   "metadata": {},
   "source": [
    "\n",
    "\n",
    "Data frames are *Pandas* objects which can be interpreted as tables."
   ]
  },
  {
   "cell_type": "markdown",
   "metadata": {},
   "source": [
    "+ Each line correspond a given timestamp\n",
    "+ Each column correspond to a given link between 2 radio devices"
   ]
  },
  {
   "cell_type": "markdown",
   "metadata": {},
   "source": [
    "Depending on available RAT involved in the serie, different data frames are available:"
   ]
  },
  {
   "cell_type": "markdown",
   "metadata": {},
   "source": [
    "+ HiKoB (HKB) data : *S.hkb*\n",
    "+ BeSpoon data : *S.bespo*\n",
    "+ TCR data : *S.tcr*"
   ]
  },
  {
   "cell_type": "markdown",
   "metadata": {},
   "source": [
    "In the example serie chosen, only HiKoB and Bespoon are available."
   ]
  },
  {
   "cell_type": "markdown",
   "metadata": {},
   "source": [
    "Here is an example of the RSS values obtained by the HKB sensors for the 120 available links and the 5 first available timestamp :"
   ]
  },
  {
   "cell_type": "code",
   "execution_count": null,
   "metadata": {
    "collapsed": false
   },
   "outputs": [
    {
     "data": {
      "text/plain": [
       "          AP1-AP2  AP1-AP3  AP1-AP4  AP1-HeadRight  AP1-TorsoTopRight  \\\n",
       "0.000000      NaN      NaN      NaN            NaN                NaN\n",
       "0.010001      NaN      NaN      NaN            NaN                NaN\n",
       "0.020002      -60      -64      -61            -71                -81\n",
       "0.030003      -60      -64      -61            -71                -81\n",
       "0.040004      -60      -64      -61            -71                -81\n",
       "\n",
       "          AP1-TorsoTopLeft  AP1-BackCenter  AP1-ElbowRight  AP1-ElbowLeft  \\\n",
       "0.000000               NaN             NaN             NaN            NaN\n",
       "0.010001               NaN             NaN             NaN            NaN\n",
       "0.020002               -73             -78             -79            -84\n",
       "0.030003               -73             -78             -79            -84\n",
       "0.040004               -73             -78             -79            -84\n",
       "\n",
       "          AP1-HipRight          ...           WristRight-WristLeft  \\\n",
       "0.000000           NaN          ...                            NaN\n",
       "0.010001           NaN          ...                            NaN\n",
       "0.020002           -73          ...                            -64\n",
       "0.030003           -73          ...                            -64\n",
       "0.040004           -73          ...                            -64\n",
       "\n",
       "          WristRight-KneeLeft  WristRight-AnkleLeft  WristRight-AnkleRight  \\\n",
       "0.000000                  NaN                   NaN                    NaN\n",
       "0.010001                  NaN                   NaN                    NaN\n",
       "0.020002                  -88                   -64                    -55\n",
       "0.030003                  -88                   -64                    -55\n",
       "0.040004                  -88                   -64                    -55\n",
       "\n",
       "          WristLeft-KneeLeft  WristLeft-AnkleLeft  WristLeft-AnkleRight  \\\n",
       "0.000000                 NaN                  NaN                   NaN\n",
       "0.010001                 NaN                  NaN                   NaN\n",
       "0.020002                 -63                  -61                   -77\n",
       "0.030003                 -63                  -61                   -77\n",
       "0.040004                 -63                  -61                   -77\n",
       "\n",
       "          KneeLeft-AnkleLeft  KneeLeft-AnkleRight  AnkleLeft-AnkleRight\n",
       "0.000000                 NaN                  NaN                   NaN\n",
       "0.010001                 NaN                  NaN                   NaN\n",
       "0.020002                 -60                  -84                   -79\n",
       "0.030003                 -60                  -84                   -79\n",
       "0.040004                 -60                  -84                   -79\n",
       "\n",
       "[5 rows x 120 columns]"
      ]
     },
     "execution_count": 6,
     "metadata": {},
     "output_type": "execute_result"
    }
   ],
   "source": [
    "S.hkb.head(5)"
   ]
  },
  {
   "cell_type": "markdown",
   "metadata": {},
   "source": [
    "### <a id='Non Radio df'></a> Non Radio DataFrames"
   ]
  },
  {
   "cell_type": "markdown",
   "metadata": {},
   "source": [
    "\n",
    "\n",
    "Extra data frames are also available to acces to non radio information. In particular, it exists :"
   ]
  },
  {
   "cell_type": "markdown",
   "metadata": {},
   "source": [
    "+ *S.devdf*: the device dataframe, which gives mechanical information: position (x,y,z), velocity (v,vx,vy,vz) and acceleration (a,ax,ay,az) of the devices at any time stamps\n",
    "+ *S.distdf*: the distance data frame, which gives ground truth distances between the different radio links."
   ]
  },
  {
   "cell_type": "markdown",
   "metadata": {},
   "source": [
    "Here is the 5 last data of the device data frame..."
   ]
  },
  {
   "cell_type": "code",
   "execution_count": null,
   "metadata": {
    "collapsed": false
   },
   "outputs": [
    {
     "data": {
      "text/plain": [
       "           id  subject         x         y         z         v        vx  \\\n",
       "104.2  HKB:14  Nicolas  0.158588 -1.574102  0.526740  0.012375 -0.005046\n",
       "104.2   HKB:1           0.018552 -2.749937  0.979166  0.000000  0.000000\n",
       "104.2  HKB:16  Nicolas -0.229677 -1.445404  0.175125  0.010563 -0.007414\n",
       "104.2  HKB:10  Nicolas  0.262695 -1.433168  1.143153  0.057829 -0.048329\n",
       "104.2   HKB:3           0.021135  3.375590  1.003871  0.000000  0.000000\n",
       "\n",
       "             vy        vz         a        ax        ay        az\n",
       "104.2  0.010521  0.004119  2.241849  1.972888  0.738384  0.767065\n",
       "104.2  0.000000  0.000000  0.000000  0.000000  0.000000  0.000000\n",
       "104.2 -0.006640 -0.003540  0.547761  0.122199 -0.250196 -0.471711\n",
       "104.2 -0.030039 -0.010302  0.924303 -0.697193  0.368582 -0.482085\n",
       "104.2  0.000000  0.000000  0.000000  0.000000  0.000000  0.000000"
      ]
     },
     "execution_count": 7,
     "metadata": {},
     "output_type": "execute_result"
    }
   ],
   "source": [
    "S.devdf.tail(5)"
   ]
  },
  {
   "cell_type": "markdown",
   "metadata": {},
   "source": [
    "... and the 5 last data of the distance data frame:"
   ]
  },
  {
   "cell_type": "code",
   "execution_count": null,
   "metadata": {
    "collapsed": false
   },
   "outputs": [
    {
     "data": {
      "text/plain": [
       "            HKB:1-HKB:2  HKB:1-HKB:3  HKB:1-HKB:4  HKB:1-HKB:5  HKB:1-HKB:6  \\\n",
       "104.159996     6.102589     6.125578     6.135849     1.308815     1.163639\n",
       "104.169997     6.102589     6.125578     6.135849     1.309074     1.163713\n",
       "104.179998     6.102589     6.125578     6.135849     1.309470     1.163938\n",
       "104.189999     6.102589     6.125578     6.135849     1.309873     1.164064\n",
       "104.200000     6.102589     6.125578     6.135849     1.310357     1.164289\n",
       "\n",
       "            HKB:1-HKB:7  HKB:1-HKB:8  HKB:1-HKB:9  HKB:1-HKB:10  HKB:1-HKB:11  \\\n",
       "104.159996     1.131707     1.387571     1.322510      1.350930      1.223406\n",
       "104.169997     1.131587     1.387549     1.322884      1.350486      1.223658\n",
       "104.179998     1.131414     1.387530     1.323230      1.350018      1.223874\n",
       "104.189999     1.131319     1.387509     1.323601      1.349608      1.224129\n",
       "104.200000     1.131228     1.387509     1.323915      1.349214      1.224341\n",
       "\n",
       "               ...       HKB:12-HKB:15  HKB:12-HKB:16  HKB:13-HKB:14  \\\n",
       "104.159996     ...            1.071233       0.990922       0.411064\n",
       "104.169997     ...            1.071489       0.990873       0.410944\n",
       "104.179998     ...            1.071624       0.990832       0.410933\n",
       "104.189999     ...            1.071955       0.990734       0.410871\n",
       "104.200000     ...            1.072294       0.990736       0.410651\n",
       "\n",
       "            HKB:13-HKB:15  HKB:13-HKB:16  HKB:14-HKB:15  HKB:14-HKB:16  \\\n",
       "104.159996       0.753501       0.910143       0.364396       0.539795\n",
       "104.169997       0.753502       0.909901       0.364396       0.539682\n",
       "104.179998       0.753522       0.909759       0.364316       0.539533\n",
       "104.189999       0.753529       0.909520       0.364281       0.539368\n",
       "104.200000       0.753482       0.909291       0.364271       0.539394\n",
       "\n",
       "            HKB:15-HKB:16  BS:0-BS:74  BS:0-BS:157\n",
       "104.159996       0.445009    1.046829     0.119864\n",
       "104.169997       0.445027    1.046903     0.119868\n",
       "104.179998       0.445038    1.046936     0.119734\n",
       "104.189999       0.445063    1.047000     0.119982\n",
       "104.200000       0.445110    1.046967     0.119830\n",
       "\n",
       "[5 rows x 122 columns]"
      ]
     },
     "execution_count": 8,
     "metadata": {},
     "output_type": "execute_result"
    }
   ],
   "source": [
    "S.distdf.tail(5)"
   ]
  },
  {
   "cell_type": "markdown",
   "metadata": {},
   "source": [
    "### <a id='device'></a> Involved devices (*S.dev*)"
   ]
  },
  {
   "cell_type": "markdown",
   "metadata": {},
   "source": [
    "\n",
    "\n",
    "The *S.dev* command allows to obtain the complete list of devices involved in the serie and:"
   ]
  },
  {
   "cell_type": "markdown",
   "metadata": {},
   "source": [
    "+ the Name of the device used in the radio dataframe\n",
    "+ the Real device Id used during the measurement campaign\n",
    "+ The corresponding device Id used on the Body wear description\n",
    "+ At wich Subject the device is related."
   ]
  },
  {
   "cell_type": "markdown",
   "metadata": {},
   "source": [
    "Infrastrucure access point obviously don't have related Subject."
   ]
  },
  {
   "cell_type": "code",
   "execution_count": null,
   "metadata": {
    "collapsed": false
   },
   "outputs": [
    {
     "data": {
      "text/plain": [
       "Name in Dataframe     | Real Id | Body Id  | Subject\n",
       "========================================================\n",
       "AP4                   |       4 | HKB:4    |\n",
       "AP1                   |       1 | HKB:1    |\n",
       "AP2                   |       2 | HKB:2    |\n",
       "AP3                   |       3 | HKB:3    |\n",
       "--------------------------------------------------------\n",
       "AnkleRight            |      16 | HKB:16   | Nicolas\n",
       "KneeLeft              |      14 | HKB:14   | Nicolas\n",
       "AnkleLeft             |      15 | HKB:15   | Nicolas\n",
       "WristRight            |      12 | HKB:12   | Nicolas\n",
       "WristLeft             |      13 | HKB:13   | Nicolas\n",
       "ElbowLeft             |      10 | HKB:10   | Nicolas\n",
       "HipRight              |      11 | HKB:11   | Nicolas\n",
       "HeadRight             |       5 | HKB:5    | Nicolas\n",
       "TorsoTopRight         |       6 | HKB:6    | Nicolas\n",
       "TorsoTopLeft          |       7 | HKB:7    | Nicolas\n",
       "BackCenter            |       8 | HKB:8    | Nicolas\n",
       "ElbowRight            |       9 | HKB:9    | Nicolas\n",
       "                      |         |          |\n",
       "WristRight            |     157 | BS:157   | Nicolas\n",
       "AnkleRight            |      74 | BS:74    | Nicolas\n",
       "HandRight             |       0 | BS:0     | Nicolas\n",
       "--------------------------------------------------------"
      ]
     },
     "execution_count": 9,
     "metadata": {},
     "output_type": "execute_result"
    }
   ],
   "source": [
    "S.dev"
   ]
  },
  {
   "cell_type": "markdown",
   "metadata": {},
   "source": [
    "## <a id='access data'></a> Accessing the data"
   ]
  },
  {
   "cell_type": "markdown",
   "metadata": {},
   "source": [
    "\n",
    "\n",
    "In order to help people not familiar with the Pandas query format, some useful methods are provided in order to extract values from radio and non radio dataframes."
   ]
  },
  {
   "cell_type": "markdown",
   "metadata": {},
   "source": [
    "<a id='getdevp'></a>\n",
    "### Get device position (*S.getdevp*)"
   ]
  },
  {
   "cell_type": "markdown",
   "metadata": {},
   "source": [
    "The value of the device position at a specific time or range or time can be obtained by specifying:"
   ]
  },
  {
   "cell_type": "markdown",
   "metadata": {},
   "source": [
    "+ The device (Name in dataframe OR real id OR body id)\n",
    "+ The radio *techno* (Precising the techno is optional except when an ambiguity occurs, therefore error is raised)\n",
    "+ a given time in second or a [start time,stop time]. If no time is given, the position for all time stamps are provided"
   ]
  },
  {
   "cell_type": "markdown",
   "metadata": {},
   "source": [
    "Hence, It is possible to get the positions of the HKB radio node 11 (Hip Right), between 5.0 seconds and 5.2 seconds with:"
   ]
  },
  {
   "cell_type": "code",
   "execution_count": null,
   "metadata": {
    "collapsed": false
   },
   "outputs": [
    {
     "data": {
      "text/plain": [
       "                 x         y         z\n",
       "5.000480 -0.139566  0.224905  1.016796\n",
       "5.010481 -0.139553  0.224845  1.016826\n",
       "5.020482 -0.139545  0.224825  1.016818\n",
       "5.030483 -0.139564  0.224730  1.016849\n",
       "5.040484 -0.139609  0.224642  1.016859\n",
       "5.050485 -0.139580  0.224613  1.016898\n",
       "5.060486 -0.139554  0.224586  1.016920\n",
       "5.070487 -0.139604  0.224492  1.016937\n",
       "5.080488 -0.139545  0.224452  1.016989\n",
       "5.090489 -0.139521  0.224391  1.016992\n",
       "5.100489 -0.139386  0.224397  1.016997\n",
       "5.110490 -0.139296  0.224315  1.017041\n",
       "5.120491 -0.139164  0.224189  1.017098\n",
       "5.130492 -0.138988  0.224128  1.017131\n",
       "5.140493 -0.138810  0.224048  1.017142\n",
       "5.150494 -0.138605  0.223969  1.017148\n",
       "5.160495 -0.138406  0.223877  1.017164\n",
       "5.170496 -0.138043  0.223803  1.017230\n",
       "5.180497 -0.137791  0.223654  1.017305\n",
       "5.190498 -0.137388  0.223580  1.017321"
      ]
     },
     "execution_count": 10,
     "metadata": {},
     "output_type": "execute_result"
    }
   ],
   "source": [
    "Positions = S.getdevp(11,t=[5,5.2])\n",
    "Positions"
   ]
  },
  {
   "cell_type": "markdown",
   "metadata": {},
   "source": [
    "**NOTE : You may also obtain a classical numpy array instead of this Pandas object by using the \"*values*\" method :**"
   ]
  },
  {
   "cell_type": "code",
   "execution_count": null,
   "metadata": {
    "collapsed": false
   },
   "outputs": [
    {
     "data": {
      "text/plain": [
       "array([[-0.13956557,  0.22490462,  1.01679608],\n",
       "       [-0.13955284,  0.22484492,  1.01682581],\n",
       "       [-0.13954524,  0.22482529,  1.01681787],\n",
       "       [-0.1395645 ,  0.2247298 ,  1.01684918],\n",
       "       [-0.13960907,  0.224642  ,  1.01685901],\n",
       "       [-0.13957962,  0.2246127 ,  1.01689801],\n",
       "       [-0.13955351,  0.22458575,  1.01691986],\n",
       "       [-0.13960399,  0.22449205,  1.01693719],\n",
       "       [-0.13954485,  0.22445244,  1.01698865],\n",
       "       [-0.13952087,  0.22439058,  1.0169917 ],\n",
       "       [-0.13938625,  0.22439655,  1.0169975 ],\n",
       "       [-0.13929645,  0.22431535,  1.01704102],\n",
       "       [-0.13916449,  0.22418907,  1.0170979 ],\n",
       "       [-0.1389884 ,  0.22412761,  1.01713135],\n",
       "       [-0.13880983,  0.22404759,  1.0171424 ],\n",
       "       [-0.13860497,  0.22396939,  1.01714777],\n",
       "       [-0.1384055 ,  0.22387668,  1.01716443],\n",
       "       [-0.13804305,  0.22380293,  1.01722955],\n",
       "       [-0.13779123,  0.2236543 ,  1.01730511],\n",
       "       [-0.13738791,  0.22358025,  1.01732141]])"
      ]
     },
     "execution_count": 11,
     "metadata": {},
     "output_type": "execute_result"
    }
   ],
   "source": [
    "Positions.values"
   ]
  },
  {
   "cell_type": "markdown",
   "metadata": {},
   "source": [
    "### <a id='getlink'></a>  Get link value (*S.getlink*)"
   ]
  },
  {
   "cell_type": "markdown",
   "metadata": {},
   "source": [
    "\n",
    "The value of a link *a* and *b* at a specific time or range or time can be obtained by specifying:"
   ]
  },
  {
   "cell_type": "markdown",
   "metadata": {},
   "source": [
    "+ The device $a$ (Name in dataframe OR real id OR body id)\n",
    "+ The device $b$ (Name in dataframe OR real id OR body id)\n",
    "+ The radio *technoa* and *technob* (Precising the techno is optional except when an ambiguity occurs, therefore error is raised)\n",
    "+ a given time in second or a [start time,stop time]. If no time is given, the position for all time stamps are provided"
   ]
  },
  {
   "cell_type": "markdown",
   "metadata": {},
   "source": [
    "Hence, It is possible to get the HKB values between radio node 11 (Hip Right) and node 16 (Ankle Right) , between 5 seconds and 5.2 seconds with:"
   ]
  },
  {
   "cell_type": "code",
   "execution_count": null,
   "metadata": {
    "collapsed": false
   },
   "outputs": [
    {
     "data": {
      "text/plain": [
       "5.000500   -67\n",
       "5.010501   -67\n",
       "5.020502   -67\n",
       "5.030503   -67\n",
       "5.040504   -67\n",
       "5.050505   -67\n",
       "5.060506   -67\n",
       "5.070507   -67\n",
       "5.080508   -67\n",
       "5.090509   -67\n",
       "5.100510   -67\n",
       "5.110511   -67\n",
       "5.120512   -67\n",
       "5.130513   -67\n",
       "5.140514   -67\n",
       "5.150515   -67\n",
       "5.160516   -67\n",
       "5.170517   -67\n",
       "5.180518   -67\n",
       "5.190519   -66\n",
       "Name: HipRight-AnkleRight, dtype: float64"
      ]
     },
     "execution_count": 12,
     "metadata": {},
     "output_type": "execute_result"
    }
   ],
   "source": [
    "Values = S.getlink(11,16,t=[5,5.2])\n",
    "Values"
   ]
  },
  {
   "cell_type": "markdown",
   "metadata": {},
   "source": [
    "### <a id='getlinkd'></a> Get link distance (*S.getlinkd*)"
   ]
  },
  {
   "cell_type": "markdown",
   "metadata": {},
   "source": []
  },
  {
   "cell_type": "markdown",
   "metadata": {},
   "source": [
    "The ground truth distance separating a device *a* and device *b* at a specific time or range or time can be obtained by specifying:"
   ]
  },
  {
   "cell_type": "markdown",
   "metadata": {},
   "source": [
    "+ The device $a$ (Name in dataframe OR real id OR body id)\n",
    "+ The device $b$ (Name in dataframe OR real id OR body id)\n",
    "+ The radio *technoa* and *technob* (Precising the techno is optional except when an ambiguity occurs, therefore error is raised)\n",
    "+ a given time in second or a [start time,stop time]. If no time is given, the position for all time stamps are provided"
   ]
  },
  {
   "cell_type": "markdown",
   "metadata": {},
   "source": [
    "Hence, It is possible to get the HKB values between radio node 11 (Hip Right) and node 16 (Ankle Right) , between 5 seconds and 5.2 seconds with:"
   ]
  },
  {
   "cell_type": "code",
   "execution_count": null,
   "metadata": {
    "collapsed": false
   },
   "outputs": [
    {
     "data": {
      "text/plain": [
       "5.000480    0.845013\n",
       "5.010481    0.845034\n",
       "5.020482    0.845045\n",
       "5.030483    0.845068\n",
       "5.040484    0.845090\n",
       "5.050485    0.845180\n",
       "5.060486    0.845229\n",
       "5.070487    0.845235\n",
       "5.080488    0.845309\n",
       "5.090489    0.845339\n",
       "5.100489    0.845353\n",
       "5.110490    0.845423\n",
       "5.120491    0.845482\n",
       "5.130492    0.845559\n",
       "5.140493    0.845563\n",
       "5.150494    0.845595\n",
       "5.160495    0.845602\n",
       "5.170496    0.845677\n",
       "5.180497    0.845769\n",
       "5.190498    0.845785\n",
       "Name: HKB:11-HKB:16, dtype: float64"
      ]
     },
     "execution_count": 13,
     "metadata": {},
     "output_type": "execute_result"
    }
   ],
   "source": [
    "Distances = S.getlinkd(11,16,t=[5,5.2])\n",
    "Distances"
   ]
  },
  {
   "cell_type": "markdown",
   "metadata": {},
   "source": [
    "## <a id='vizu'></a> Visualizing the Data"
   ]
  },
  {
   "cell_type": "markdown",
   "metadata": {},
   "source": [
    "###  <a id='pandas'></a> Native Pandas Vizualization"
   ]
  },
  {
   "cell_type": "markdown",
   "metadata": {},
   "source": []
  },
  {
   "cell_type": "markdown",
   "metadata": {},
   "source": [
    "Because radio data in CorSer are stored into Pandas objects, convenient vizualization method are directly available. Most of them can be found here : http://pandas.pydata.org/pandas-docs/stable/visualization.html"
   ]
  },
  {
   "cell_type": "markdown",
   "metadata": {},
   "source": [
    "As an example, it is possbile tthe previous obtained values and distance with :"
   ]
  },
  {
   "cell_type": "code",
   "execution_count": null,
   "metadata": {
    "collapsed": true
   },
   "outputs": [],
   "source": [
    "# Ploting\n",
    "ax=Values.plot() #plot values\n",
    "l=Distances.plot(secondary_y=True,ax=ax) # plot distances on the right side\n",
    "\n",
    "##Labelling\n",
    "ax.legend() # add legend box\n",
    "ax.set_ylabel('RSS Values (dBm)') #set left ylabel\n",
    "ax.right_ax.set_ylabel('Distances (m)') #set right ylabel\n",
    "ax.set_xlabel('time (s)') # set xlabel\n",
    "ax.set_title('RSS and distance as a function of time')"
   ]
  },
  {
   "cell_type": "markdown",
   "metadata": {},
   "source": [
    "In addition, CorSer also provides specific plotting methods which includes extra features."
   ]
  },
  {
   "cell_type": "markdown",
   "metadata": {},
   "source": [
    "### <a id='plot'></a> Plot method (S.plot)"
   ]
  },
  {
   "cell_type": "markdown",
   "metadata": {},
   "source": [
    "\n",
    "\n",
    "The plot function allows to display the radio values of a link.\n",
    "The main parameters are always the same:"
   ]
  },
  {
   "cell_type": "markdown",
   "metadata": {},
   "source": [
    "+ The device $a$ (Name in dataframe OR real id OR body id)\n",
    "+ The device $b$ (Name in dataframe OR real id OR body id)\n",
    "+ The radio *techno* (Precising the techno is optional except when an ambiguity occurs, therefore error is raised)\n",
    "+ A given time in second or a [start time,stop time]. If no time is given, the position for all time stamps are provided"
   ]
  },
  {
   "cell_type": "markdown",
   "metadata": {},
   "source": [
    "More option are availble, please refer to the docstring (*S.plot?*) for more information"
   ]
  },
  {
   "cell_type": "markdown",
   "metadata": {},
   "source": [
    "####Plot values\n",
    "Continuying with the same example, it is possible to plot the HKB values between radio node 11 (Hip Right) and node 16 (Ankle Right) , between 5 seconds and 5.2 seconds with:"
   ]
  },
  {
   "cell_type": "code",
   "execution_count": null,
   "metadata": {
    "collapsed": false
   },
   "outputs": [
    {
     "data": {
      "text/plain": [
       "(<matplotlib.figure.Figure at 0x7f39e85e54d0>,\n",
       " <matplotlib.axes.AxesSubplot at 0x7f39e3aa97d0>)"
      ]
     },
     "execution_count": 15,
     "metadata": {},
     "output_type": "execute_result"
    }
   ],
   "source": [
    "S.plot(11,16,t=[5,5.2])"
   ]
  },
  {
   "cell_type": "markdown",
   "metadata": {},
   "source": [
    "### Plot distance"
   ]
  },
  {
   "cell_type": "markdown",
   "metadata": {},
   "source": [
    "\n",
    "\n",
    "As well, it is possible to plot the distance using the *distance* parameter"
   ]
  },
  {
   "cell_type": "code",
   "execution_count": null,
   "metadata": {
    "collapsed": false
   },
   "outputs": [
    {
     "data": {
      "text/plain": [
       "(<matplotlib.figure.Figure at 0x7f39e3884650>,\n",
       " <matplotlib.axes.AxesSubplot at 0x7f39e38e6e90>)"
      ]
     },
     "execution_count": 16,
     "metadata": {},
     "output_type": "execute_result"
    }
   ],
   "source": [
    "S.plot(11,16,t=[5,5.2],distance = True)"
   ]
  },
  {
   "cell_type": "markdown",
   "metadata": {},
   "source": [
    "It is also possible to get the same result than with the Pandas procedure with the following code :"
   ]
  },
  {
   "cell_type": "code",
   "execution_count": null,
   "metadata": {
    "collapsed": false
   },
   "outputs": [
    {
     "data": {
      "text/plain": [
       "(<matplotlib.figure.Figure at 0x7f39e3884850>,\n",
       " <matplotlib.axes.AxesSubplot at 0x7f39e3799410>)"
      ]
     },
     "execution_count": 17,
     "metadata": {},
     "output_type": "execute_result"
    }
   ],
   "source": [
    "#plot value\n",
    "f,ax = S.plot(11,16,t=[5,5.2],color ='b',title=False)\n",
    "\n",
    "# create right axis\n",
    "ax2=ax.twinx()\n",
    "\n",
    "# plot distance\n",
    "S.plot(11,16,t=[5,5.2],color ='g',title=False,\n",
    "       distance=True,\n",
    "       fig=f,ax=ax2)"
   ]
  },
  {
   "cell_type": "markdown",
   "metadata": {},
   "source": [
    "### <a id='plotvisi'></a> Plot visibility method (S.pltvisi)"
   ]
  },
  {
   "cell_type": "markdown",
   "metadata": {},
   "source": [
    "\n",
    "\n",
    "In order to go further in the radio value interpretation, it is convenient to have some extra information about the **optical visibility/occultation** of devices involved in a link."
   ]
  },
  {
   "cell_type": "markdown",
   "metadata": {},
   "source": [
    "This information allows to determine the line of sight (LOS) or non line of sight (NLOS) cases which are crutial for power level and delay interpretation."
   ]
  },
  {
   "cell_type": "markdown",
   "metadata": {},
   "source": [
    "This information can be superimposed to the radio values. To this end, the plot visibility (*S.pltvisi*) method is used.\n",
    "The **hatched** area denoted **NLOS** wheras **clear** area denotes **LOS**."
   ]
  },
  {
   "cell_type": "markdown",
   "metadata": {},
   "source": [
    "Parameters are the same than those the *plot* method:"
   ]
  },
  {
   "cell_type": "code",
   "execution_count": null,
   "metadata": {
    "collapsed": false
   },
   "outputs": [
    {
     "data": {
      "text/plain": [
       "(<matplotlib.figure.Figure at 0x7f39e3799f90>,\n",
       " <matplotlib.axes.AxesSubplot at 0x7f39e368edd0>)"
      ]
     },
     "execution_count": 18,
     "metadata": {},
     "output_type": "execute_result"
    }
   ],
   "source": [
    "f,ax = S.plot(1,16)\n",
    "S.pltvisi(1,16,fig=f,ax=ax)"
   ]
  },
  {
   "cell_type": "markdown",
   "metadata": {},
   "source": [
    "### <a id='plotmob'></a> Plot mobility method (S.pltmob)"
   ]
  },
  {
   "cell_type": "markdown",
   "metadata": {},
   "source": [
    "\n",
    "\n",
    "As well it is possible to determine and indicate whether the subject is static or not by using the plot mobility method (*S.pltmob*).\n",
    "The succession of Static and Mobile sequences are denoted $S_x$ and $M_x$ resplectively, where $x$ is an index of the sequence."
   ]
  },
  {
   "cell_type": "code",
   "execution_count": null,
   "metadata": {
    "collapsed": false
   },
   "outputs": [
    {
     "data": {
      "text/plain": [
       "(<matplotlib.figure.Figure at 0x7f194f27e2d0>,\n",
       " <matplotlib.axes.AxesSubplot at 0x7f194f021310>)"
      ]
     },
     "execution_count": 19,
     "metadata": {},
     "output_type": "execute_result"
    }
   ],
   "source": [
    "f,ax = S.plot(1,16)\n",
    "S.pltmob(fig=f,ax=ax)"
   ]
  },
  {
   "cell_type": "markdown",
   "metadata": {},
   "source": [
    "The 2 upmentionned methods can also be used simultaneously as shown in the following example :"
   ]
  },
  {
   "cell_type": "code",
   "execution_count": null,
   "metadata": {
    "collapsed": false
   },
   "outputs": [
    {
     "data": {
      "text/plain": [
       "(<matplotlib.figure.Figure at 0x7f194f273bd0>,\n",
       " <matplotlib.axes.AxesSubplot at 0x7f194f35ff50>)"
      ]
     },
     "execution_count": 20,
     "metadata": {},
     "output_type": "execute_result"
    }
   ],
   "source": [
    "# plot data in green)\n",
    "f,ax=S.plthkb(1,13,figsize=(10,5))\n",
    "# plot optical occultation (hatched lines)\n",
    "S.pltvisi(1,13,fig=f,ax=ax)\n",
    "# plot subject mobility (grey areas)\n",
    "S.pltmob(showvel=False,ylim=([-100,-40]),fig=f,ax=ax)"
   ]
  },
  {
   "cell_type": "markdown",
   "metadata": {},
   "source": [
    "### <a id='3Dplot'></a> 3D plot (S._show3)"
   ]
  },
  {
   "cell_type": "markdown",
   "metadata": {},
   "source": [
    "\n",
    "\n",
    "With the help of the Mayavi Library, the CorSer class allows to display in 3D :"
   ]
  },
  {
   "cell_type": "markdown",
   "metadata": {},
   "source": [
    "+ The building where measurements have taken place\n",
    "+ The positions of Vicon Cameras\n",
    "+ The Multi-cylindric representation of the the subjects involved in the selected serie\n",
    "+ The position/ antenna pattern of the devices on the body(ies) and in the infrastructure."
   ]
  },
  {
   "cell_type": "markdown",
   "metadata": {},
   "source": [
    "\n",
    "By default, the use of the *S._show3* method display the complete scene with body(ies) and associated devices at 4 different timestamp"
   ]
  },
  {
   "cell_type": "code",
   "execution_count": null,
   "metadata": {
    "collapsed": false
   },
   "outputs": [
    {
     "data": {
      "text/plain": [
       "/home/uguen/anaconda/lib/python2.7/site-packages/traits/has_traits.py:1766: FutureWarning: comparison to `None` will result in an elementwise object comparison in the future.\n",
       "  setattr( self, name, value )\n",
       "<IPython.core.display.Image at 0x7f39e3180450>"
      ]
     },
     "execution_count": 21,
     "metadata": {},
     "output_type": "execute_result"
    }
   ],
   "source": [
    "S._show3()\n",
    "\n",
    "#the following line is only used to display in the notebook a screenshot of the mayavi window\n",
    "myu.inotshow('fig1')"
   ]
  },
  {
   "cell_type": "markdown",
   "metadata": {},
   "source": [
    "#### Specify time (*bodytime* parameter)"
   ]
  },
  {
   "cell_type": "markdown",
   "metadata": {},
   "source": [
    "\n",
    "\n",
    "In order to display scene at specific timestamps, the parameter *bodytime* can be used"
   ]
  },
  {
   "cell_type": "markdown",
   "metadata": {},
   "source": [
    "Example: to show the body position at $t=0s$, $t=30s$ and $t=90s$."
   ]
  },
  {
   "cell_type": "code",
   "execution_count": null,
   "metadata": {
    "collapsed": false
   },
   "outputs": [
    {
     "data": {
      "text/plain": [
       "<IPython.core.display.Image at 0x7f39e3229c10>"
      ]
     },
     "execution_count": 22,
     "metadata": {},
     "output_type": "execute_result"
    }
   ],
   "source": [
    "S._show3(bodytime=[0.,30.,90.])\n",
    "\n",
    "#the following line is only used to display in the notebook a screenshot of the mayavi window\n",
    "myu.inotshow('fig2')"
   ]
  },
  {
   "cell_type": "markdown",
   "metadata": {},
   "source": [
    "#### display trajectory (*trajectory* parameter)"
   ]
  },
  {
   "cell_type": "code",
   "execution_count": null,
   "metadata": {
    "collapsed": false
   },
   "outputs": [
    {
     "data": {
      "text/plain": [
       "<IPython.core.display.Image at 0x7f39b040bb90>"
      ]
     },
     "execution_count": 23,
     "metadata": {},
     "output_type": "execute_result"
    }
   ],
   "source": [
    "S._show3(trajectory = True,bodytime=[0.,30.,90.])\n",
    "\n",
    "#the following line is only used to display in the notebook a screenshot of the mayavi window\n",
    "myu.inotshow('fig3')"
   ]
  },
  {
   "cell_type": "markdown",
   "metadata": {},
   "source": [
    "### <a id='3Dploti'></a> 3D plot interactive (*S._show3i*)"
   ]
  },
  {
   "cell_type": "markdown",
   "metadata": {},
   "source": [
    "\n",
    "The method *S._show3i()* allows to display the 3D scene with an extra window incluying a slider acting like a jog shuttle, to choose the timestamp to vizualize."
   ]
  },
  {
   "cell_type": "markdown",
   "metadata": {},
   "source": [
    "Note : This function is note available in the notebook"
   ]
  },
  {
   "cell_type": "code",
   "execution_count": null,
   "metadata": {
    "collapsed": false
   },
   "outputs": [
    {
     "data": {
      "text/plain": [
       "<IPython.core.display.Image at 0x7f39b0316910>"
      ]
     },
     "execution_count": 24,
     "metadata": {},
     "output_type": "execute_result"
    }
   ],
   "source": [
    "S._show3i(t=35) #t=35 is an initialization value\n",
    "\n",
    "#the following line is only used to display in the notebook a screenshot of the mayavi window\n",
    "myu.inotshow('fig4')"
   ]
  },
  {
   "cell_type": "markdown",
   "metadata": {},
   "source": [
    "### <a id='visii'></a> Interactive visibility (*S.imshowvisibility_i*)"
   ]
  },
  {
   "cell_type": "markdown",
   "metadata": {},
   "source": [
    "\n",
    "\n",
    "The visibility matrix can be displayed simultaneously to the 3D view."
   ]
  },
  {
   "cell_type": "markdown",
   "metadata": {},
   "source": [
    "For that purpose a visibility/occultation matrix is computed the first time the vizualization is called.\n",
    "The following code displays the tisibility matrix and associated 3D scene at the inital time $t=35s$"
   ]
  },
  {
   "cell_type": "code",
   "execution_count": null,
   "metadata": {
    "collapsed": false
   },
   "outputs": [
    {
     "data": {
      "text/plain": [
       "Visibility is computed only once, Please wait\n",
       "\n",
       "processing shadowing from\n",
       "/home/uguen/anaconda/lib/python2.7/site-packages/traits/has_traits.py:1766: FutureWarning: comparison to `None` will result in an elementwise object comparison in the future.\n",
       "  setattr( self, name, value )\n",
       "/home/uguen/anaconda/lib/python2.7/site-packages/traits/has_traits.py:1771: FutureWarning: comparison to `None` will result in an elementwise object comparison in the future.\n",
       "  setattr( self, name, value )\n",
       " Nicolas\n",
       "\n",
       "\n",
       "<IPython.core.display.Image at 0x7f194ed5a1d0>"
      ]
     },
     "execution_count": 25,
     "metadata": {},
     "output_type": "execute_result"
    }
   ],
   "source": [
    "S.imshowvisibility_i(t=35)\n",
    "\n",
    "#the following line is only used to display in the notebook a screenshot of the mayavi window\n",
    "myu.inotshow('fig5')"
   ]
  },
  {
   "cell_type": "markdown",
   "metadata": {},
   "source": [
    "## Using Pylayers Ray-tracing with CorSer data"
   ]
  },
  {
   "cell_type": "markdown",
   "metadata": {},
   "source": [
    "\n",
    "Coming soon, work in progress"
   ]
  },
  {
   "cell_type": "code",
   "execution_count": null,
   "metadata": {
    "collapsed": true
   },
   "outputs": [],
   "source": [
    "import pylayers.simul.simultraj as st"
   ]
  },
  {
   "cell_type": "code",
   "execution_count": null,
   "metadata": {
    "collapsed": true
   },
   "outputs": [],
   "source": [
    "#ST=st.Simul(S)"
   ]
  }
 ],
 "metadata": {
  "kernelspec": {
   "display_name": "Python 2",
   "language": "python",
   "name": "python2"
  },
  "language_info": {
   "codemirror_mode": {
    "name": "ipython",
    "version": 2
   },
   "file_extension": ".py",
   "mimetype": "text/x-python",
   "name": "python",
   "nbconvert_exporter": "python",
   "pygments_lexer": "ipython2",
   "version": "2.7.10"
  }
 },
 "nbformat": 4,
 "nbformat_minor": 0
}
