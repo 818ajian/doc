{
 "cells": [
  {
   "cell_type": "markdown",
   "metadata": {},
   "source": [
    "#Network Simulation Configuration"
   ]
  },
  {
   "cell_type": "code",
   "execution_count": 1,
   "metadata": {
    "collapsed": false
   },
   "outputs": [],
   "source": [
    "import ConfigParser\n",
    "import pylayers.util.pyutil as pyu"
   ]
  },
  {
   "cell_type": "markdown",
   "metadata": {},
   "source": [
    "PyLayers is designed to provide indoor radio channel simulation for mobile agents. \n",
    "\n",
    "The goal is to address mobility in indoor environment heterogeneous network, with human being carriers of a mobile User Equipement (UE) which possibly embeds several Radio Acess Technology (RAT). \n",
    "\n",
    "Several humans can be created and their motion in the environement should be as realistic as possible, because for many applications it turns out that many parameters of interest\n",
    "are stongly dependent of the dynamic topology of the mobile network. \n",
    "\n",
    "In the following the configuration files for proceeding with those high level `PyLayers` simulation are described. \n",
    "\n",
    "The configuration file is `simulnet.ini` "
   ]
  },
  {
   "cell_type": "markdown",
   "metadata": {},
   "source": [
    "## Simulnet.ini"
   ]
  },
  {
   "cell_type": "markdown",
   "metadata": {},
   "source": [
    "This file is assumed to be located in `$BASENAME/ini`. As the format of this file is not stable yet. Refer to the comment in the file below for obtaining the inforamtion about the format.  "
   ]
  },
  {
   "cell_type": "code",
   "execution_count": 2,
   "metadata": {
    "collapsed": false
   },
   "outputs": [
    {
     "name": "stdout",
     "output_type": "stream",
     "text": [
      "[Mysql]\r\n",
      "host = localhost\r\n",
      "user = root\r\n",
      "passwd = sqlsql\r\n",
      "dbname = test\r\n",
      "dumpdb =True\r\n",
      "\r\n",
      "[Save]\r\n",
      "; deprecated save option\r\n",
      "save=[]\r\n",
      ";save=['csv','mysql','matlab','pyray','txt','ini']\r\n",
      "; save format using Save class..to be deprecatred soon\r\n",
      "savep=True\r\n",
      "; pandas save format . only record mechanical. To be upgraded soon\r\n",
      "savepd=True\r\n",
      "\r\n",
      "[Layout]\r\n",
      "filename = TA-Office.ini\r\n",
      "\r\n",
      "x_offset  = 30\r\n",
      "y_offset = 2\r\n",
      "\r\n",
      "the_world_width\t = 65\r\n",
      "the_world_height = 20\r\n",
      "the_world_scale\t = 20 \r\n",
      "\r\n",
      "[Mechanics]\r\n",
      "; update time for agent movement\r\n",
      "mecanic_update_time = 0.2\r\n",
      "; select how agnt choose destiantion\r\n",
      ";'random' ; file\r\n",
      "choose_destination = 'random'\r\n",
      "; experimental show for debug purpose\r\n",
      "pdshow=False\r\n",
      "\r\n",
      "[Network]\r\n",
      "; simulate the network\r\n",
      "network=True\r\n",
      "; refresh TOA regulary 'synchro 'or with distance 'autionomous'\r\n",
      "Communication_mode='autonomous'\r\n",
      "; update time for refreshing network\r\n",
      "network_update_time = 0.1\r\n",
      "; show nodes moving & radio link\r\n",
      "show = False\r\n",
      "; show in ipython notebook\r\n",
      "ipython_nb_show = False\r\n",
      "; show signature ( not fully functionnal)\r\n",
      "show_sg = False\r\n",
      "; show 2 tables : mecanic & network\r\n",
      "show_table = False\r\n",
      "; show the same information but in terminal\r\n",
      "dispinfo = False\r\n",
      "\r\n",
      "[Localization]\r\n",
      "; perform localization\r\n",
      "localization = False\r\n",
      "; time to refresh localization\r\n",
      "localization_update_time = 1.0\r\n",
      "; list of used methods method = ['alg','geo']\r\n",
      "method = ['geo']\r\n",
      "\r\n",
      "\r\n",
      "\r\n",
      "[Simulation]\r\n",
      "; simulation filename for savepd\r\n",
      "filename = 'simulnet'\r\n",
      "; Simulation duration\r\n",
      "duration = 120.0\r\n",
      "; speed ratio ag\r\n",
      "speedratio = 50.\r\n",
      "; time for refreshing tk plot ( obsolete)\r\n",
      "show_interval = 0.5\r\n",
      "; show scene using tk renderer ( obsolete)\r\n",
      "showtk   = False\r\n",
      "; choose seed for random mobiliity\r\n",
      "seed = 1\r\n",
      "; verbose output\r\n",
      "verbose = False\r\n",
      "\r\n"
     ]
    }
   ],
   "source": [
    "!cat $BASENAME/ini/simulnet.ini"
   ]
  },
  {
   "cell_type": "code",
   "execution_count": 4,
   "metadata": {
    "collapsed": false
   },
   "outputs": [
    {
     "data": {
      "text/plain": [
       "['/home/uguen/Bureau/P1/ini/simulnet.ini']"
      ]
     },
     "execution_count": 4,
     "metadata": {},
     "output_type": "execute_result"
    }
   ],
   "source": [
    "Cp = ConfigParser.ConfigParser()\n",
    "Cp.read(pyu.getlong('simulnet.ini','ini'))"
   ]
  },
  {
   "cell_type": "markdown",
   "metadata": {},
   "source": [
    "Current version of `Simulnet.ini` contains the following sections"
   ]
  },
  {
   "cell_type": "code",
   "execution_count": 5,
   "metadata": {
    "collapsed": false
   },
   "outputs": [
    {
     "data": {
      "text/plain": [
       "['Mysql',\n",
       " 'Save',\n",
       " 'Layout',\n",
       " 'Mechanics',\n",
       " 'Network',\n",
       " 'Localization',\n",
       " 'Simulation']"
      ]
     },
     "execution_count": 5,
     "metadata": {},
     "output_type": "execute_result"
    }
   ],
   "source": [
    "Cp.sections()"
   ]
  },
  {
   "cell_type": "markdown",
   "metadata": {},
   "source": [
    "### Save section"
   ]
  },
  {
   "cell_type": "markdown",
   "metadata": {},
   "source": [
    "The save section handles the output files of the simulation. "
   ]
  },
  {
   "cell_type": "code",
   "execution_count": 6,
   "metadata": {
    "collapsed": false
   },
   "outputs": [
    {
     "data": {
      "text/plain": [
       "{'save': '[]', 'savep': 'True', 'savepd': 'True'}"
      ]
     },
     "execution_count": 6,
     "metadata": {},
     "output_type": "execute_result"
    }
   ],
   "source": [
    "dict(Cp.items('Save'))"
   ]
  },
  {
   "cell_type": "markdown",
   "metadata": {},
   "source": [
    "The `savep` boolean enable/disable saving of the simulation."
   ]
  },
  {
   "cell_type": "code",
   "execution_count": 7,
   "metadata": {
    "collapsed": false
   },
   "outputs": [
    {
     "data": {
      "text/plain": [
       "'True'"
      ]
     },
     "execution_count": 7,
     "metadata": {},
     "output_type": "execute_result"
    }
   ],
   "source": [
    "dict(Cp.items('Save'))['savep']"
   ]
  },
  {
   "cell_type": "markdown",
   "metadata": {},
   "source": [
    "The log file which contains all traces from the simulated dynamics are in `$BASENAME/netsave`"
   ]
  },
  {
   "cell_type": "code",
   "execution_count": 8,
   "metadata": {
    "collapsed": false
   },
   "outputs": [
    {
     "name": "stdout",
     "output_type": "stream",
     "text": [
      "/home/uguen/Bureau/P1/netsave/save  /home/uguen/Bureau/P1/netsave/save.mat  /home/uguen/Bureau/P1/netsave/simulnet_TA-Office.h5  /home/uguen/Bureau/P1/netsave/traj_nicta.h5\r\n"
     ]
    }
   ],
   "source": [
    "!ls $BASENAME/netsave/*"
   ]
  },
  {
   "cell_type": "markdown",
   "metadata": {},
   "source": [
    "### Layout section\n",
    "\n",
    "This section specifies the layout parameter and spatial dimension of the simulation "
   ]
  },
  {
   "cell_type": "code",
   "execution_count": 9,
   "metadata": {
    "collapsed": false
   },
   "outputs": [
    {
     "data": {
      "text/plain": [
       "{'filename': 'TA-Office.ini',\n",
       " 'the_world_height': '20',\n",
       " 'the_world_scale': '20',\n",
       " 'the_world_width': '65',\n",
       " 'x_offset': '30',\n",
       " 'y_offset': '2'}"
      ]
     },
     "execution_count": 9,
     "metadata": {},
     "output_type": "execute_result"
    }
   ],
   "source": [
    "dict(Cp.items('Layout'))"
   ]
  },
  {
   "cell_type": "markdown",
   "metadata": {},
   "source": [
    "Choose the used Layout for simulation"
   ]
  },
  {
   "cell_type": "code",
   "execution_count": 10,
   "metadata": {
    "collapsed": false
   },
   "outputs": [
    {
     "data": {
      "text/plain": [
       "'TA-Office.ini'"
      ]
     },
     "execution_count": 10,
     "metadata": {},
     "output_type": "execute_result"
    }
   ],
   "source": [
    "dict(Cp.items('Layout'))['filename']"
   ]
  },
  {
   "cell_type": "markdown",
   "metadata": {},
   "source": [
    "Setup an offset for defining the coordinate system origin"
   ]
  },
  {
   "cell_type": "code",
   "execution_count": 11,
   "metadata": {
    "collapsed": false
   },
   "outputs": [
    {
     "name": "stdout",
     "output_type": "stream",
     "text": [
      "30\n",
      "2\n"
     ]
    }
   ],
   "source": [
    "print dict(Cp.items('Layout'))['x_offset']\n",
    "print dict(Cp.items('Layout'))['y_offset']"
   ]
  },
  {
   "cell_type": "markdown",
   "metadata": {},
   "source": [
    "### Network section"
   ]
  },
  {
   "cell_type": "code",
   "execution_count": 12,
   "metadata": {
    "collapsed": false
   },
   "outputs": [
    {
     "data": {
      "text/plain": [
       "{'communication_mode': \"'autonomous'\",\n",
       " 'dispinfo': 'False',\n",
       " 'ipython_nb_show': 'False',\n",
       " 'network': 'True',\n",
       " 'network_update_time': '0.1',\n",
       " 'show': 'False',\n",
       " 'show_sg': 'False',\n",
       " 'show_table': 'False'}"
      ]
     },
     "execution_count": 12,
     "metadata": {},
     "output_type": "execute_result"
    }
   ],
   "source": [
    "dict(Cp.items('Network'))"
   ]
  },
  {
   "cell_type": "markdown",
   "metadata": {},
   "source": [
    "Setup communication mode between node:\n",
    "\n",
    "+ `\"autonomous\"` : the data exchange between nodes is driven by the localization layer. If more information is required to estimate the position then a communication request is sent to the communication state\n",
    "+ `\"synchro\"` : the data exchange between nodes is periodic. LDPs are periodically refreshed at the `network_update_time`"
   ]
  },
  {
   "cell_type": "code",
   "execution_count": 13,
   "metadata": {
    "collapsed": false
   },
   "outputs": [
    {
     "data": {
      "text/plain": [
       "\"'autonomous'\""
      ]
     },
     "execution_count": 13,
     "metadata": {},
     "output_type": "execute_result"
    }
   ],
   "source": [
    "dict(Cp.items('Network'))['communication_mode']"
   ]
  },
  {
   "cell_type": "markdown",
   "metadata": {},
   "source": [
    "Time step for the refresh network information\n"
   ]
  },
  {
   "cell_type": "code",
   "execution_count": 14,
   "metadata": {
    "collapsed": false
   },
   "outputs": [
    {
     "data": {
      "text/plain": [
       "'0.1'"
      ]
     },
     "execution_count": 14,
     "metadata": {},
     "output_type": "execute_result"
    }
   ],
   "source": [
    "dict(Cp.items('Network'))['network_update_time']"
   ]
  },
  {
   "cell_type": "markdown",
   "metadata": {},
   "source": [
    "Vizualization of the simulation using matplotlib"
   ]
  },
  {
   "cell_type": "code",
   "execution_count": 15,
   "metadata": {
    "collapsed": false
   },
   "outputs": [
    {
     "data": {
      "text/plain": [
       "'False'"
      ]
     },
     "execution_count": 15,
     "metadata": {},
     "output_type": "execute_result"
    }
   ],
   "source": [
    "dict(Cp.items('Network'))['show']"
   ]
  },
  {
   "cell_type": "markdown",
   "metadata": {},
   "source": [
    "Vizualization of a table summing up the data exchange of the nodes"
   ]
  },
  {
   "cell_type": "code",
   "execution_count": 16,
   "metadata": {
    "collapsed": false
   },
   "outputs": [
    {
     "data": {
      "text/plain": [
       "'False'"
      ]
     },
     "execution_count": 16,
     "metadata": {},
     "output_type": "execute_result"
    }
   ],
   "source": [
    "dict(Cp.items('Network'))['show_table']"
   ]
  },
  {
   "cell_type": "markdown",
   "metadata": {},
   "source": [
    "Vizualization of the simulation inside ipython notebook "
   ]
  },
  {
   "cell_type": "code",
   "execution_count": 17,
   "metadata": {
    "collapsed": false
   },
   "outputs": [
    {
     "data": {
      "text/plain": [
       "'False'"
      ]
     },
     "execution_count": 17,
     "metadata": {},
     "output_type": "execute_result"
    }
   ],
   "source": [
    "dict(Cp.items('Network'))['ipython_nb_show']"
   ]
  },
  {
   "cell_type": "markdown",
   "metadata": {},
   "source": [
    "## Mechanics\n",
    "\n",
    "This section specifies agents dynamic during simulation"
   ]
  },
  {
   "cell_type": "code",
   "execution_count": 18,
   "metadata": {
    "collapsed": false
   },
   "outputs": [
    {
     "data": {
      "text/plain": [
       "{'choose_destination': \"'random'\",\n",
       " 'mecanic_update_time': '0.2',\n",
       " 'pdshow': 'False'}"
      ]
     },
     "execution_count": 18,
     "metadata": {},
     "output_type": "execute_result"
    }
   ],
   "source": [
    "dict(Cp.items('Mechanics'))"
   ]
  },
  {
   "cell_type": "markdown",
   "metadata": {},
   "source": [
    "Setup how agent choose their target:\n",
    "\n",
    "+ `\"random\"`: the agnet move into the layout randomly\n",
    "+ `\"file\"` : the agent follow the sequence specified in `<project_dir>/nodes_destination.ini`"
   ]
  },
  {
   "cell_type": "code",
   "execution_count": 19,
   "metadata": {
    "collapsed": false
   },
   "outputs": [
    {
     "data": {
      "text/plain": [
       "\"'random'\""
      ]
     },
     "execution_count": 19,
     "metadata": {},
     "output_type": "execute_result"
    }
   ],
   "source": [
    "dict(Cp.items('Mechanics'))['choose_destination']"
   ]
  },
  {
   "cell_type": "markdown",
   "metadata": {},
   "source": [
    "Time step for refreshing the mechanical layer (ground truth position) \n"
   ]
  },
  {
   "cell_type": "code",
   "execution_count": 20,
   "metadata": {
    "collapsed": false
   },
   "outputs": [
    {
     "data": {
      "text/plain": [
       "'0.2'"
      ]
     },
     "execution_count": 20,
     "metadata": {},
     "output_type": "execute_result"
    }
   ],
   "source": [
    "dict(Cp.items('Mechanics'))['mecanic_update_time']"
   ]
  },
  {
   "cell_type": "markdown",
   "metadata": {},
   "source": [
    "### Localization section\n",
    "Setup Localization algorithms"
   ]
  },
  {
   "cell_type": "code",
   "execution_count": 21,
   "metadata": {
    "collapsed": false
   },
   "outputs": [
    {
     "data": {
      "text/plain": [
       "{'localization': 'False',\n",
       " 'localization_update_time': '1.0',\n",
       " 'method': \"['geo']\"}"
      ]
     },
     "execution_count": 21,
     "metadata": {},
     "output_type": "execute_result"
    }
   ],
   "source": [
    "dict(Cp.items('Localization'))"
   ]
  },
  {
   "cell_type": "markdown",
   "metadata": {},
   "source": [
    "enable/disable localizaiton of the agents"
   ]
  },
  {
   "cell_type": "code",
   "execution_count": 22,
   "metadata": {
    "collapsed": false
   },
   "outputs": [
    {
     "data": {
      "text/plain": [
       "'False'"
      ]
     },
     "execution_count": 22,
     "metadata": {},
     "output_type": "execute_result"
    }
   ],
   "source": [
    "dict(Cp.items('Localization'))['localization']"
   ]
  },
  {
   "cell_type": "markdown",
   "metadata": {},
   "source": [
    "Select localization methods :\n",
    "\n",
    "+ Algebraic : hétérogeneous localization algorithm\n",
    "+ Geometric : RGPA "
   ]
  },
  {
   "cell_type": "code",
   "execution_count": 23,
   "metadata": {
    "collapsed": false
   },
   "outputs": [
    {
     "data": {
      "text/plain": [
       "\"['geo']\""
      ]
     },
     "execution_count": 23,
     "metadata": {},
     "output_type": "execute_result"
    }
   ],
   "source": [
    "dict(Cp.items('Localization'))['method']"
   ]
  },
  {
   "cell_type": "markdown",
   "metadata": {},
   "source": [
    "Time step for localization update"
   ]
  },
  {
   "cell_type": "code",
   "execution_count": 24,
   "metadata": {
    "collapsed": false
   },
   "outputs": [
    {
     "data": {
      "text/plain": [
       "'1.0'"
      ]
     },
     "execution_count": 24,
     "metadata": {},
     "output_type": "execute_result"
    }
   ],
   "source": [
    "dict(Cp.items('Localization'))['localization_update_time']"
   ]
  },
  {
   "cell_type": "markdown",
   "metadata": {},
   "source": [
    "### Simulation section"
   ]
  },
  {
   "cell_type": "code",
   "execution_count": 25,
   "metadata": {
    "collapsed": false
   },
   "outputs": [
    {
     "data": {
      "text/plain": [
       "{'duration': '120.0',\n",
       " 'filename': \"'simulnet'\",\n",
       " 'seed': '1',\n",
       " 'show_interval': '0.5',\n",
       " 'showtk': 'False',\n",
       " 'speedratio': '50.',\n",
       " 'verbose': 'False'}"
      ]
     },
     "execution_count": 25,
     "metadata": {},
     "output_type": "execute_result"
    }
   ],
   "source": [
    "dict(Cp.items('Simulation'))\n"
   ]
  },
  {
   "cell_type": "markdown",
   "metadata": {},
   "source": [
    "Setup simulation duration in second"
   ]
  },
  {
   "cell_type": "code",
   "execution_count": 26,
   "metadata": {
    "collapsed": false
   },
   "outputs": [
    {
     "data": {
      "text/plain": [
       "'120.0'"
      ]
     },
     "execution_count": 26,
     "metadata": {},
     "output_type": "execute_result"
    }
   ],
   "source": [
    "dict(Cp.items('Simulation'))['duration']\n"
   ]
  },
  {
   "cell_type": "markdown",
   "metadata": {},
   "source": [
    "Setup random seed for simulation"
   ]
  },
  {
   "cell_type": "code",
   "execution_count": 27,
   "metadata": {
    "collapsed": false
   },
   "outputs": [
    {
     "data": {
      "text/plain": [
       "'1'"
      ]
     },
     "execution_count": 27,
     "metadata": {},
     "output_type": "execute_result"
    }
   ],
   "source": [
    "dict(Cp.items('Simulation'))['seed']\n"
   ]
  },
  {
   "cell_type": "markdown",
   "metadata": {},
   "source": [
    "Display messages during simulation"
   ]
  },
  {
   "cell_type": "code",
   "execution_count": 28,
   "metadata": {
    "collapsed": false
   },
   "outputs": [
    {
     "data": {
      "text/plain": [
       "'False'"
      ]
     },
     "execution_count": 28,
     "metadata": {},
     "output_type": "execute_result"
    }
   ],
   "source": [
    "dict(Cp.items('Simulation'))['verbose']\n"
   ]
  },
  {
   "cell_type": "markdown",
   "metadata": {},
   "source": [
    "See Also "
   ]
  },
  {
   "cell_type": "code",
   "execution_count": 29,
   "metadata": {
    "collapsed": false
   },
   "outputs": [
    {
     "data": {
      "text/html": [
       "<a href='../4-MOB/Mobility.ipynb' target='_blank'>../4-MOB/Mobility.ipynb</a><br>"
      ],
      "text/plain": [
       "/home/uguen/Documents/rch/devel/pylayers/doc/notebook/4-MOB/Mobility.ipynb"
      ]
     },
     "execution_count": 29,
     "metadata": {},
     "output_type": "execute_result"
    }
   ],
   "source": [
    "FileLink('../4-MOB/Mobility.ipynb')"
   ]
  }
 ],
 "metadata": {
  "kernelspec": {
   "display_name": "Python 2",
   "language": "python",
   "name": "python2"
  },
  "language_info": {
   "codemirror_mode": {
    "name": "ipython",
    "version": 2
   },
   "file_extension": ".py",
   "mimetype": "text/x-python",
   "name": "python",
   "nbconvert_exporter": "python",
   "pygments_lexer": "ipython2",
   "version": "2.7.9"
  }
 },
 "nbformat": 4,
 "nbformat_minor": 0
}
