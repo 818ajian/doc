{
 "cells": [
  {
   "cell_type": "code",
   "execution_count": 1,
   "metadata": {
    "collapsed": false
   },
   "outputs": [],
   "source": [
    "from pylayers.location.algebraic.algebraic import *\n",
    "from pylayers.util.geomutil import dist"
   ]
  },
  {
   "cell_type": "markdown",
   "metadata": {},
   "source": [
    "## Example of TDOA "
   ]
  },
  {
   "cell_type": "markdown",
   "metadata": {},
   "source": [
    "First, it is necesary to define Anchor nodes and associated Reference Anchor Nodes. This is important to be very specific about what exactly the TDOA is. In the example the Blin node is draw randomly as well as anchor nodes. "
   ]
  },
  {
   "cell_type": "code",
   "execution_count": 2,
   "metadata": {
    "collapsed": false
   },
   "outputs": [],
   "source": [
    "nodes = {}\n",
    "N = 5\n",
    "AN_TDOA = np.random.rand(2,N) \n",
    "#AN_TDOA1=np.array([[0, 0, 1, 1],[0,1,1,0]])\n",
    "#AN_TDOAr1 = np.roll(AN_TDOA,1,axis=1)\n",
    "AN_TDOAr1 = np.zeros((2,1))\n",
    "AN_TDOAr2 = AN_TDOA[:,-1][:,newaxis]\n",
    "BN = np.array([[0.2],[0.3]])"
   ]
  },
  {
   "cell_type": "code",
   "execution_count": 3,
   "metadata": {
    "collapsed": false
   },
   "outputs": [
    {
     "data": {
      "text/plain": [
       "array([[ 0.79438925,  0.89384558,  0.29912065,  0.32742084,  0.37672174],\n",
       "       [ 0.0331368 ,  0.63918785,  0.78616551,  0.39510656,  0.42003313]])"
      ]
     },
     "execution_count": 3,
     "metadata": {},
     "output_type": "execute_result"
    }
   ],
   "source": [
    "AN_TDOA"
   ]
  },
  {
   "cell_type": "code",
   "execution_count": 4,
   "metadata": {
    "collapsed": false
   },
   "outputs": [
    {
     "data": {
      "text/plain": [
       "array([[ 0.],\n",
       "       [ 0.]])"
      ]
     },
     "execution_count": 4,
     "metadata": {},
     "output_type": "execute_result"
    }
   ],
   "source": [
    "AN_TDOAr1"
   ]
  },
  {
   "cell_type": "code",
   "execution_count": 5,
   "metadata": {
    "collapsed": false
   },
   "outputs": [
    {
     "data": {
      "text/plain": [
       "array([[ 0.37672174],\n",
       "       [ 0.42003313]])"
      ]
     },
     "execution_count": 5,
     "metadata": {},
     "output_type": "execute_result"
    }
   ],
   "source": [
    "AN_TDOAr2"
   ]
  },
  {
   "cell_type": "markdown",
   "metadata": {},
   "source": [
    "The figure below illustrates the situation, in red the anchor nodes, the blue star is the blind node. "
   ]
  },
  {
   "cell_type": "code",
   "execution_count": 6,
   "metadata": {
    "collapsed": false
   },
   "outputs": [
    {
     "data": {
      "text/plain": [
       "[-1, 2, -1, 2]"
      ]
     },
     "execution_count": 6,
     "metadata": {},
     "output_type": "execute_result"
    },
    {
     "data": {
      "image/png": "[encoded data removed]",
      "text/plain": [
       "<matplotlib.figure.Figure at 0x7fa5c4d8b5d0>"
      ]
     },
     "metadata": {},
     "output_type": "display_data"
    }
   ],
   "source": [
    "plot(AN_TDOA[0,:],AN_TDOA[1,:],'or')\n",
    "plot(AN_TDOAr2[0,:],AN_TDOAr2[1,:],'ok')\n",
    "plot(BN[0,:],BN[1,:],'*b')\n",
    "axis([-1,2,-1,2])"
   ]
  },
  {
   "cell_type": "code",
   "execution_count": 7,
   "metadata": {
    "collapsed": false
   },
   "outputs": [],
   "source": [
    "\n",
    "d = dist(AN_TDOA,BN,0)\n",
    "dr1= dist(AN_TDOAr1,BN,0)\n",
    "dr2= dist(AN_TDOAr2,BN,0)\n"
   ]
  },
  {
   "cell_type": "code",
   "execution_count": 8,
   "metadata": {
    "collapsed": false
   },
   "outputs": [
    {
     "name": "stdout",
     "output_type": "stream",
     "text": [
      "[  1.45972021e+00   1.86227671e+00   9.41784562e-01  -1.82102405e-01\n",
      "  -2.77555756e-17]\n",
      "[ 0.96997561  1.37253211  0.45203997 -0.671847   -0.48974459]\n",
      "[ 1.45972021  1.86227671  0.94178456 -0.1821024   0.        ]\n"
     ]
    }
   ],
   "source": [
    "tdoa1 = (d-dr1)/0.3\n",
    "tdoa2 = (d-dr2)/0.3\n",
    "tdoa0 = (d-roll(d,1))/0.3\n",
    "\n",
    "print cumsum(tdoa0)\n",
    "print tdoa1\n",
    "print tdoa2\n"
   ]
  },
  {
   "cell_type": "code",
   "execution_count": 9,
   "metadata": {
    "collapsed": false
   },
   "outputs": [],
   "source": [
    "node={}\n",
    "nodes['BN']=BN\n",
    "nodes['RN_TDOA']=AN_TDOA\n",
    "nodes['RNr_TDOA']=AN_TDOAr2\n",
    "ldp = {}\n",
    "ldp['TDOA']=cumsum(tdoa0)\n",
    "ldp['TDOA_std']=np.ones(N)"
   ]
  },
  {
   "cell_type": "code",
   "execution_count": 10,
   "metadata": {
    "collapsed": false
   },
   "outputs": [],
   "source": [
    "S=algloc(nodes,ldp)"
   ]
  },
  {
   "cell_type": "code",
   "execution_count": 11,
   "metadata": {
    "collapsed": false
   },
   "outputs": [
    {
     "name": "stdout",
     "output_type": "stream",
     "text": [
      "Nodes :  {'RN_TDOA': array([[ 0.79438925,  0.89384558,  0.29912065,  0.32742084,  0.37672174],\n",
      "       [ 0.0331368 ,  0.63918785,  0.78616551,  0.39510656,  0.42003313]]), 'BN': array([[ 0.2],\n",
      "       [ 0.3]]), 'RNr_TDOA': array([[ 0.37672174],\n",
      "       [ 0.42003313]])}\n",
      "Location dependent parameters :  {'TDOA': array([  1.45972021e+00,   1.86227671e+00,   9.41784562e-01,\n",
      "        -1.82102405e-01,  -2.77555756e-17]), 'TDOA_std': array([ 1.,  1.,  1.,  1.,  1.])}\n"
     ]
    }
   ],
   "source": [
    "S.info()"
   ]
  },
  {
   "cell_type": "code",
   "execution_count": 12,
   "metadata": {
    "collapsed": false
   },
   "outputs": [],
   "source": [
    "S = algloc(nodes,ldp)"
   ]
  },
  {
   "cell_type": "code",
   "execution_count": 13,
   "metadata": {
    "collapsed": false
   },
   "outputs": [
    {
     "data": {
      "text/plain": [
       "array([[ 0.2002061 ],\n",
       "       [ 0.30006662]])"
      ]
     },
     "execution_count": 13,
     "metadata": {},
     "output_type": "execute_result"
    }
   ],
   "source": [
    "S.ls_locate(tdoa=True,toa=False,rss=False)"
   ]
  },
  {
   "cell_type": "code",
   "execution_count": 14,
   "metadata": {
    "collapsed": false
   },
   "outputs": [
    {
     "data": {
      "text/plain": [
       "array([[ 0.2],\n",
       "       [ 0.3]])"
      ]
     },
     "execution_count": 14,
     "metadata": {},
     "output_type": "execute_result"
    }
   ],
   "source": [
    "nodes['BN']"
   ]
  },
  {
   "cell_type": "code",
   "execution_count": 15,
   "metadata": {
    "collapsed": false
   },
   "outputs": [],
   "source": []
  }
 ],
 "metadata": {
  "kernelspec": {
   "display_name": "Python 2",
   "language": "python",
   "name": "python2"
  },
  "language_info": {
   "codemirror_mode": {
    "name": "ipython",
    "version": 2
   },
   "file_extension": ".py",
   "mimetype": "text/x-python",
   "name": "python",
   "nbconvert_exporter": "python",
   "pygments_lexer": "ipython2",
   "version": "2.7.9"
  }
 },
 "nbformat": 4,
 "nbformat_minor": 0
}
